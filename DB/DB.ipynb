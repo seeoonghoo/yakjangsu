{
  "nbformat": 4,
  "nbformat_minor": 0,
  "metadata": {
    "colab": {
      "name": "DB.ipynb",
      "provenance": [],
      "collapsed_sections": []
    },
    "kernelspec": {
      "name": "python3",
      "display_name": "Python 3"
    },
    "language_info": {
      "name": "python"
    }
  },
  "cells": [
    {
      "cell_type": "code",
      "metadata": {
        "id": "HAXQc00uDY-S"
      },
      "source": [
        "import pandas as pd\n"
      ],
      "execution_count": 34,
      "outputs": []
    },
    {
      "cell_type": "code",
      "metadata": {
        "id": "CbiDExwID8BP"
      },
      "source": [
        "filename = 'Yakzangsu_DB_valid_v1_210609 - Yak_info.csv'\n",
        "data = pd.read_csv(filename)"
      ],
      "execution_count": 49,
      "outputs": []
    },
    {
      "cell_type": "code",
      "metadata": {
        "colab": {
          "base_uri": "https://localhost:8080/",
          "height": 746
        },
        "id": "XpuUs7-bEJXs",
        "outputId": "eb34c550-8936-4015-fac9-d2c5b0aee09f"
      },
      "source": [
        "data"
      ],
      "execution_count": 50,
      "outputs": [
        {
          "output_type": "execute_result",
          "data": {
            "text/html": [
              "<div>\n",
              "<style scoped>\n",
              "    .dataframe tbody tr th:only-of-type {\n",
              "        vertical-align: middle;\n",
              "    }\n",
              "\n",
              "    .dataframe tbody tr th {\n",
              "        vertical-align: top;\n",
              "    }\n",
              "\n",
              "    .dataframe thead th {\n",
              "        text-align: right;\n",
              "    }\n",
              "</style>\n",
              "<table border=\"1\" class=\"dataframe\">\n",
              "  <thead>\n",
              "    <tr style=\"text-align: right;\">\n",
              "      <th></th>\n",
              "      <th>maker</th>\n",
              "      <th>brand</th>\n",
              "      <th>ko_name</th>\n",
              "      <th>en_name</th>\n",
              "      <th>amount</th>\n",
              "      <th>weight_per_pc</th>\n",
              "      <th>type</th>\n",
              "      <th>vitamin_A</th>\n",
              "      <th>vitamin_B1</th>\n",
              "      <th>vitamin_B2</th>\n",
              "      <th>vitamin_C</th>\n",
              "      <th>vitamin_D</th>\n",
              "      <th>vitamin_E</th>\n",
              "      <th>Mg</th>\n",
              "      <th>vitamin_K</th>\n",
              "      <th>vitamin_B6</th>\n",
              "      <th>vitamin_B12</th>\n",
              "      <th>Ca</th>\n",
              "      <th>Fe</th>\n",
              "      <th>Cu</th>\n",
              "      <th>Biotics</th>\n",
              "      <th>Ext</th>\n",
              "    </tr>\n",
              "  </thead>\n",
              "  <tbody>\n",
              "    <tr>\n",
              "      <th>0</th>\n",
              "      <td>GSK</td>\n",
              "      <td>센트룸</td>\n",
              "      <td>센트룸포맨</td>\n",
              "      <td>CENTRUM FOR MEN</td>\n",
              "      <td>50</td>\n",
              "      <td>1387.0</td>\n",
              "      <td>tap</td>\n",
              "      <td>1.159</td>\n",
              "      <td>3.7</td>\n",
              "      <td>4.6</td>\n",
              "      <td>150.0</td>\n",
              "      <td>0.1</td>\n",
              "      <td>0.369</td>\n",
              "      <td>84.00</td>\n",
              "      <td>0.05</td>\n",
              "      <td>0.049</td>\n",
              "      <td>0.025</td>\n",
              "      <td>210.00</td>\n",
              "      <td>5.00</td>\n",
              "      <td>0.500</td>\n",
              "      <td>NaN</td>\n",
              "      <td>NaN</td>\n",
              "    </tr>\n",
              "    <tr>\n",
              "      <th>1</th>\n",
              "      <td>SWISSE VITAMINS &amp; SUPPLEMENTS</td>\n",
              "      <td>SWISSE</td>\n",
              "      <td>NaN</td>\n",
              "      <td>MENS ULTIVITE MULTIVITAMIN</td>\n",
              "      <td>120</td>\n",
              "      <td>NaN</td>\n",
              "      <td>tap</td>\n",
              "      <td>2.867</td>\n",
              "      <td>NaN</td>\n",
              "      <td>NaN</td>\n",
              "      <td>165.2</td>\n",
              "      <td>NaN</td>\n",
              "      <td>50.000</td>\n",
              "      <td>57.89</td>\n",
              "      <td>NaN</td>\n",
              "      <td>24.680</td>\n",
              "      <td>0.030</td>\n",
              "      <td>45.67</td>\n",
              "      <td>3.00</td>\n",
              "      <td>0.029</td>\n",
              "      <td>NaN</td>\n",
              "      <td>NaN</td>\n",
              "    </tr>\n",
              "    <tr>\n",
              "      <th>2</th>\n",
              "      <td>SWISSE VITAMINS &amp; SUPPLEMENTS</td>\n",
              "      <td>SWISSE</td>\n",
              "      <td>NaN</td>\n",
              "      <td>WOMENS ULTIVITE MULTIVITAMIN</td>\n",
              "      <td>120</td>\n",
              "      <td>NaN</td>\n",
              "      <td>tap</td>\n",
              "      <td>2.867</td>\n",
              "      <td>NaN</td>\n",
              "      <td>NaN</td>\n",
              "      <td>165.2</td>\n",
              "      <td>NaN</td>\n",
              "      <td>50.000</td>\n",
              "      <td>47.16</td>\n",
              "      <td>NaN</td>\n",
              "      <td>41.100</td>\n",
              "      <td>0.050</td>\n",
              "      <td>67.10</td>\n",
              "      <td>7.13</td>\n",
              "      <td>0.058</td>\n",
              "      <td>NaN</td>\n",
              "      <td>NaN</td>\n",
              "    </tr>\n",
              "    <tr>\n",
              "      <th>3</th>\n",
              "      <td>JAMIESON</td>\n",
              "      <td>JAMIESON</td>\n",
              "      <td>프로바이오틱스 100억</td>\n",
              "      <td>NaN</td>\n",
              "      <td>90</td>\n",
              "      <td>370.0</td>\n",
              "      <td>hard_cap</td>\n",
              "      <td>NaN</td>\n",
              "      <td>NaN</td>\n",
              "      <td>NaN</td>\n",
              "      <td>NaN</td>\n",
              "      <td>NaN</td>\n",
              "      <td>NaN</td>\n",
              "      <td>NaN</td>\n",
              "      <td>NaN</td>\n",
              "      <td>NaN</td>\n",
              "      <td>NaN</td>\n",
              "      <td>NaN</td>\n",
              "      <td>NaN</td>\n",
              "      <td>NaN</td>\n",
              "      <td>NaN</td>\n",
              "      <td>NaN</td>\n",
              "    </tr>\n",
              "    <tr>\n",
              "      <th>4</th>\n",
              "      <td>JARROW FOMULAS</td>\n",
              "      <td>JARROW FOMULAS</td>\n",
              "      <td>NaN</td>\n",
              "      <td>WOMEN'S FERM DOPHILUS</td>\n",
              "      <td>60</td>\n",
              "      <td>NaN</td>\n",
              "      <td>hard_cap</td>\n",
              "      <td>NaN</td>\n",
              "      <td>NaN</td>\n",
              "      <td>NaN</td>\n",
              "      <td>NaN</td>\n",
              "      <td>NaN</td>\n",
              "      <td>NaN</td>\n",
              "      <td>NaN</td>\n",
              "      <td>NaN</td>\n",
              "      <td>NaN</td>\n",
              "      <td>NaN</td>\n",
              "      <td>NaN</td>\n",
              "      <td>NaN</td>\n",
              "      <td>NaN</td>\n",
              "      <td>NaN</td>\n",
              "      <td>NaN</td>\n",
              "    </tr>\n",
              "    <tr>\n",
              "      <th>5</th>\n",
              "      <td>NATURE'S WAY</td>\n",
              "      <td>ALIVE</td>\n",
              "      <td>원스데일리</td>\n",
              "      <td>ONCE DAILY MULTI-VITAMIN</td>\n",
              "      <td>100</td>\n",
              "      <td>1745.0</td>\n",
              "      <td>tap</td>\n",
              "      <td>0.555</td>\n",
              "      <td>40.0</td>\n",
              "      <td>35.0</td>\n",
              "      <td>250.0</td>\n",
              "      <td>0.1</td>\n",
              "      <td>25.000</td>\n",
              "      <td>75.00</td>\n",
              "      <td>0.07</td>\n",
              "      <td>50.000</td>\n",
              "      <td>0.175</td>\n",
              "      <td>100.00</td>\n",
              "      <td>15.00</td>\n",
              "      <td>2.000</td>\n",
              "      <td>NaN</td>\n",
              "      <td>NaN</td>\n",
              "    </tr>\n",
              "    <tr>\n",
              "      <th>6</th>\n",
              "      <td>KLAIRE LABS</td>\n",
              "      <td>KLAIRE LABS</td>\n",
              "      <td>프로바이오틱스컴플리트캡슐</td>\n",
              "      <td>THER-BIOTIC COMPLETE 10+BEILLION CFUs MULTI-SP...</td>\n",
              "      <td>60</td>\n",
              "      <td>21000.0</td>\n",
              "      <td>thickend_liq</td>\n",
              "      <td>NaN</td>\n",
              "      <td>NaN</td>\n",
              "      <td>NaN</td>\n",
              "      <td>NaN</td>\n",
              "      <td>NaN</td>\n",
              "      <td>NaN</td>\n",
              "      <td>NaN</td>\n",
              "      <td>NaN</td>\n",
              "      <td>NaN</td>\n",
              "      <td>NaN</td>\n",
              "      <td>NaN</td>\n",
              "      <td>NaN</td>\n",
              "      <td>NaN</td>\n",
              "      <td>NaN</td>\n",
              "      <td>NaN</td>\n",
              "    </tr>\n",
              "    <tr>\n",
              "      <th>7</th>\n",
              "      <td>KC 인삼공사</td>\n",
              "      <td>정관장</td>\n",
              "      <td>홍삼원 포르테</td>\n",
              "      <td>KOREAN RED GINESENG DRINK FORTE</td>\n",
              "      <td>5</td>\n",
              "      <td>50.0</td>\n",
              "      <td>weaked_liq</td>\n",
              "      <td>NaN</td>\n",
              "      <td>NaN</td>\n",
              "      <td>NaN</td>\n",
              "      <td>NaN</td>\n",
              "      <td>NaN</td>\n",
              "      <td>NaN</td>\n",
              "      <td>NaN</td>\n",
              "      <td>NaN</td>\n",
              "      <td>NaN</td>\n",
              "      <td>NaN</td>\n",
              "      <td>NaN</td>\n",
              "      <td>NaN</td>\n",
              "      <td>NaN</td>\n",
              "      <td>NaN</td>\n",
              "      <td>NaN</td>\n",
              "    </tr>\n",
              "    <tr>\n",
              "      <th>8</th>\n",
              "      <td>AMAZING NUTRITION</td>\n",
              "      <td>AMAZING NUTRITION</td>\n",
              "      <td>어메이징포뮬라루테인</td>\n",
              "      <td>AMAZING FORMULA</td>\n",
              "      <td>240</td>\n",
              "      <td>145.0</td>\n",
              "      <td>soft_cap</td>\n",
              "      <td>NaN</td>\n",
              "      <td>NaN</td>\n",
              "      <td>NaN</td>\n",
              "      <td>NaN</td>\n",
              "      <td>NaN</td>\n",
              "      <td>NaN</td>\n",
              "      <td>NaN</td>\n",
              "      <td>NaN</td>\n",
              "      <td>NaN</td>\n",
              "      <td>NaN</td>\n",
              "      <td>NaN</td>\n",
              "      <td>NaN</td>\n",
              "      <td>NaN</td>\n",
              "      <td>NaN</td>\n",
              "      <td>NaN</td>\n",
              "    </tr>\n",
              "    <tr>\n",
              "      <th>9</th>\n",
              "      <td>CLX</td>\n",
              "      <td>NEOCELL</td>\n",
              "      <td>마린콜라겐</td>\n",
              "      <td>MARINE COLLAGEN</td>\n",
              "      <td>120</td>\n",
              "      <td>141747.6</td>\n",
              "      <td>hard_cap</td>\n",
              "      <td>NaN</td>\n",
              "      <td>NaN</td>\n",
              "      <td>NaN</td>\n",
              "      <td>10.0</td>\n",
              "      <td>NaN</td>\n",
              "      <td>NaN</td>\n",
              "      <td>NaN</td>\n",
              "      <td>NaN</td>\n",
              "      <td>NaN</td>\n",
              "      <td>NaN</td>\n",
              "      <td>NaN</td>\n",
              "      <td>NaN</td>\n",
              "      <td>NaN</td>\n",
              "      <td>NaN</td>\n",
              "      <td>NaN</td>\n",
              "    </tr>\n",
              "    <tr>\n",
              "      <th>10</th>\n",
              "      <td>(주)뉴트리원</td>\n",
              "      <td>NUTRIONELIFE</td>\n",
              "      <td>맥주효모</td>\n",
              "      <td>BREWER'S YEAST</td>\n",
              "      <td>112</td>\n",
              "      <td>112000.0</td>\n",
              "      <td>candy</td>\n",
              "      <td>NaN</td>\n",
              "      <td>NaN</td>\n",
              "      <td>NaN</td>\n",
              "      <td>NaN</td>\n",
              "      <td>NaN</td>\n",
              "      <td>NaN</td>\n",
              "      <td>NaN</td>\n",
              "      <td>NaN</td>\n",
              "      <td>NaN</td>\n",
              "      <td>NaN</td>\n",
              "      <td>NaN</td>\n",
              "      <td>NaN</td>\n",
              "      <td>NaN</td>\n",
              "      <td>NaN</td>\n",
              "      <td>NaN</td>\n",
              "    </tr>\n",
              "  </tbody>\n",
              "</table>\n",
              "</div>"
            ],
            "text/plain": [
              "                            maker              brand  ... Biotics Ext\n",
              "0                             GSK                센트룸  ...     NaN NaN\n",
              "1   SWISSE VITAMINS & SUPPLEMENTS             SWISSE  ...     NaN NaN\n",
              "2   SWISSE VITAMINS & SUPPLEMENTS             SWISSE  ...     NaN NaN\n",
              "3                        JAMIESON           JAMIESON  ...     NaN NaN\n",
              "4                  JARROW FOMULAS     JARROW FOMULAS  ...     NaN NaN\n",
              "5                    NATURE'S WAY              ALIVE  ...     NaN NaN\n",
              "6                     KLAIRE LABS        KLAIRE LABS  ...     NaN NaN\n",
              "7                         KC 인삼공사                정관장  ...     NaN NaN\n",
              "8               AMAZING NUTRITION  AMAZING NUTRITION  ...     NaN NaN\n",
              "9                             CLX            NEOCELL  ...     NaN NaN\n",
              "10                        (주)뉴트리원       NUTRIONELIFE  ...     NaN NaN\n",
              "\n",
              "[11 rows x 22 columns]"
            ]
          },
          "metadata": {
            "tags": []
          },
          "execution_count": 50
        }
      ]
    },
    {
      "cell_type": "code",
      "metadata": {
        "id": "t9NXoZdiEO6u"
      },
      "source": [
        "filename = '약장수_파일명 - not_prepro_not_tuned.csv'\n",
        "data_real = pd.read_csv(filename)"
      ],
      "execution_count": 38,
      "outputs": []
    },
    {
      "cell_type": "code",
      "metadata": {
        "id": "OOvJAFLxGiKy"
      },
      "source": [
        "data_real"
      ],
      "execution_count": null,
      "outputs": []
    },
    {
      "cell_type": "code",
      "metadata": {
        "id": "tSG854lQGjCB",
        "colab": {
          "base_uri": "https://localhost:8080/",
          "height": 88
        },
        "outputId": "a634d15d-df26-4bbb-ff1e-f013a718fdf9"
      },
      "source": [
        "data_real.loc[34][2]"
      ],
      "execution_count": 43,
      "outputs": [
        {
          "output_type": "execute_result",
          "data": {
            "application/vnd.google.colaboratory.intrinsic+json": {
              "type": "string"
            },
            "text/plain": [
              "'[\\'Irom\\', \"\\'Zinc 스\", \\'셈\\', \\'맑\"\\', \\'열\\', \\'3외 로@\\', \\'센트률\\', \\'p등\\', \\'콤공마\\', \\'부무\\', \\'노통\\', \\'[문보\\', \\'포맨\\', \\'멀티비타민미네활\\', \\'pe\\', \\'버세[적-씨 다\\', \"\\'Fm기지 버\", \\'ii씬째\\', \\'M\\', \\'대m그구\\', \\'본문\\', \"\\'초\", \"\\'스 거{]스스\", \\'장물\\', \\'라i물_꽤\\', \\'50정(69.4g)\\', \\'기능식품\\', \\'건강\\', \\'다 {매륙서질\\', \\'어움중\\', \\'건강기능식품\\', \\'Ai\\', \\'NEW\\', \\'튀U이\\', \\' 오등\\', \\'\"오드\\', \\'{거등사\\', \\'[권 다이로회상\\']'"
            ]
          },
          "metadata": {
            "tags": []
          },
          "execution_count": 43
        }
      ]
    },
    {
      "cell_type": "code",
      "metadata": {
        "id": "XBmj0D73Ifmg"
      },
      "source": [
        "tmp = ['Swisse', 'MENS', 'ULTIVITE', 'MULTIVITAMIN', '{', 'SUPPORT DURING STRESS', 'ASSISTS ENERGY PRODUCTION', 'STAMINA & VITALITY', 'ON SCIENTIFIC EVIDENCE', \"MEN'S HEALTH\", '120 TABLETS ONE-A-DAY', '@', '(OUAI', 'BASED', 'AOnMU', 'DThYPI']"
      ],
      "execution_count": 44,
      "outputs": []
    },
    {
      "cell_type": "code",
      "metadata": {
        "colab": {
          "base_uri": "https://localhost:8080/"
        },
        "id": "vNujLjdXJbR-",
        "outputId": "29fc7502-eae2-44d7-bccf-4633de610fee"
      },
      "source": [
        "tmp"
      ],
      "execution_count": 45,
      "outputs": [
        {
          "output_type": "execute_result",
          "data": {
            "text/plain": [
              "['Swisse',\n",
              " 'MENS',\n",
              " 'ULTIVITE',\n",
              " 'MULTIVITAMIN',\n",
              " '{',\n",
              " 'SUPPORT DURING STRESS',\n",
              " 'ASSISTS ENERGY PRODUCTION',\n",
              " 'STAMINA & VITALITY',\n",
              " 'ON SCIENTIFIC EVIDENCE',\n",
              " \"MEN'S HEALTH\",\n",
              " '120 TABLETS ONE-A-DAY',\n",
              " '@',\n",
              " '(OUAI',\n",
              " 'BASED',\n",
              " 'AOnMU',\n",
              " 'DThYPI']"
            ]
          },
          "metadata": {
            "tags": []
          },
          "execution_count": 45
        }
      ]
    },
    {
      "cell_type": "code",
      "metadata": {
        "colab": {
          "base_uri": "https://localhost:8080/",
          "height": 746
        },
        "id": "UGggw2tLJboM",
        "outputId": "c3ef38c0-0228-4a26-dc1d-5f373d1af042"
      },
      "source": [
        "data"
      ],
      "execution_count": 51,
      "outputs": [
        {
          "output_type": "execute_result",
          "data": {
            "text/html": [
              "<div>\n",
              "<style scoped>\n",
              "    .dataframe tbody tr th:only-of-type {\n",
              "        vertical-align: middle;\n",
              "    }\n",
              "\n",
              "    .dataframe tbody tr th {\n",
              "        vertical-align: top;\n",
              "    }\n",
              "\n",
              "    .dataframe thead th {\n",
              "        text-align: right;\n",
              "    }\n",
              "</style>\n",
              "<table border=\"1\" class=\"dataframe\">\n",
              "  <thead>\n",
              "    <tr style=\"text-align: right;\">\n",
              "      <th></th>\n",
              "      <th>maker</th>\n",
              "      <th>brand</th>\n",
              "      <th>ko_name</th>\n",
              "      <th>en_name</th>\n",
              "      <th>amount</th>\n",
              "      <th>weight_per_pc</th>\n",
              "      <th>type</th>\n",
              "      <th>vitamin_A</th>\n",
              "      <th>vitamin_B1</th>\n",
              "      <th>vitamin_B2</th>\n",
              "      <th>vitamin_C</th>\n",
              "      <th>vitamin_D</th>\n",
              "      <th>vitamin_E</th>\n",
              "      <th>Mg</th>\n",
              "      <th>vitamin_K</th>\n",
              "      <th>vitamin_B6</th>\n",
              "      <th>vitamin_B12</th>\n",
              "      <th>Ca</th>\n",
              "      <th>Fe</th>\n",
              "      <th>Cu</th>\n",
              "      <th>Biotics</th>\n",
              "      <th>Ext</th>\n",
              "    </tr>\n",
              "  </thead>\n",
              "  <tbody>\n",
              "    <tr>\n",
              "      <th>0</th>\n",
              "      <td>GSK</td>\n",
              "      <td>센트룸</td>\n",
              "      <td>센트룸포맨</td>\n",
              "      <td>CENTRUM FOR MEN</td>\n",
              "      <td>50</td>\n",
              "      <td>1387.0</td>\n",
              "      <td>tap</td>\n",
              "      <td>1.159</td>\n",
              "      <td>3.7</td>\n",
              "      <td>4.6</td>\n",
              "      <td>150.0</td>\n",
              "      <td>0.1</td>\n",
              "      <td>0.369</td>\n",
              "      <td>84.00</td>\n",
              "      <td>0.05</td>\n",
              "      <td>0.049</td>\n",
              "      <td>0.025</td>\n",
              "      <td>210.00</td>\n",
              "      <td>5.00</td>\n",
              "      <td>0.500</td>\n",
              "      <td>NaN</td>\n",
              "      <td>NaN</td>\n",
              "    </tr>\n",
              "    <tr>\n",
              "      <th>1</th>\n",
              "      <td>SWISSE VITAMINS &amp; SUPPLEMENTS</td>\n",
              "      <td>SWISSE</td>\n",
              "      <td>NaN</td>\n",
              "      <td>MENS ULTIVITE MULTIVITAMIN</td>\n",
              "      <td>120</td>\n",
              "      <td>NaN</td>\n",
              "      <td>tap</td>\n",
              "      <td>2.867</td>\n",
              "      <td>NaN</td>\n",
              "      <td>NaN</td>\n",
              "      <td>165.2</td>\n",
              "      <td>NaN</td>\n",
              "      <td>50.000</td>\n",
              "      <td>57.89</td>\n",
              "      <td>NaN</td>\n",
              "      <td>24.680</td>\n",
              "      <td>0.030</td>\n",
              "      <td>45.67</td>\n",
              "      <td>3.00</td>\n",
              "      <td>0.029</td>\n",
              "      <td>NaN</td>\n",
              "      <td>NaN</td>\n",
              "    </tr>\n",
              "    <tr>\n",
              "      <th>2</th>\n",
              "      <td>SWISSE VITAMINS &amp; SUPPLEMENTS</td>\n",
              "      <td>SWISSE</td>\n",
              "      <td>NaN</td>\n",
              "      <td>WOMENS ULTIVITE MULTIVITAMIN</td>\n",
              "      <td>120</td>\n",
              "      <td>NaN</td>\n",
              "      <td>tap</td>\n",
              "      <td>2.867</td>\n",
              "      <td>NaN</td>\n",
              "      <td>NaN</td>\n",
              "      <td>165.2</td>\n",
              "      <td>NaN</td>\n",
              "      <td>50.000</td>\n",
              "      <td>47.16</td>\n",
              "      <td>NaN</td>\n",
              "      <td>41.100</td>\n",
              "      <td>0.050</td>\n",
              "      <td>67.10</td>\n",
              "      <td>7.13</td>\n",
              "      <td>0.058</td>\n",
              "      <td>NaN</td>\n",
              "      <td>NaN</td>\n",
              "    </tr>\n",
              "    <tr>\n",
              "      <th>3</th>\n",
              "      <td>JAMIESON</td>\n",
              "      <td>JAMIESON</td>\n",
              "      <td>프로바이오틱스 100억</td>\n",
              "      <td>NaN</td>\n",
              "      <td>90</td>\n",
              "      <td>370.0</td>\n",
              "      <td>hard_cap</td>\n",
              "      <td>NaN</td>\n",
              "      <td>NaN</td>\n",
              "      <td>NaN</td>\n",
              "      <td>NaN</td>\n",
              "      <td>NaN</td>\n",
              "      <td>NaN</td>\n",
              "      <td>NaN</td>\n",
              "      <td>NaN</td>\n",
              "      <td>NaN</td>\n",
              "      <td>NaN</td>\n",
              "      <td>NaN</td>\n",
              "      <td>NaN</td>\n",
              "      <td>NaN</td>\n",
              "      <td>NaN</td>\n",
              "      <td>NaN</td>\n",
              "    </tr>\n",
              "    <tr>\n",
              "      <th>4</th>\n",
              "      <td>JARROW FOMULAS</td>\n",
              "      <td>JARROW FOMULAS</td>\n",
              "      <td>NaN</td>\n",
              "      <td>WOMEN'S FERM DOPHILUS</td>\n",
              "      <td>60</td>\n",
              "      <td>NaN</td>\n",
              "      <td>hard_cap</td>\n",
              "      <td>NaN</td>\n",
              "      <td>NaN</td>\n",
              "      <td>NaN</td>\n",
              "      <td>NaN</td>\n",
              "      <td>NaN</td>\n",
              "      <td>NaN</td>\n",
              "      <td>NaN</td>\n",
              "      <td>NaN</td>\n",
              "      <td>NaN</td>\n",
              "      <td>NaN</td>\n",
              "      <td>NaN</td>\n",
              "      <td>NaN</td>\n",
              "      <td>NaN</td>\n",
              "      <td>NaN</td>\n",
              "      <td>NaN</td>\n",
              "    </tr>\n",
              "    <tr>\n",
              "      <th>5</th>\n",
              "      <td>NATURE'S WAY</td>\n",
              "      <td>ALIVE</td>\n",
              "      <td>원스데일리</td>\n",
              "      <td>ONCE DAILY MULTI-VITAMIN</td>\n",
              "      <td>100</td>\n",
              "      <td>1745.0</td>\n",
              "      <td>tap</td>\n",
              "      <td>0.555</td>\n",
              "      <td>40.0</td>\n",
              "      <td>35.0</td>\n",
              "      <td>250.0</td>\n",
              "      <td>0.1</td>\n",
              "      <td>25.000</td>\n",
              "      <td>75.00</td>\n",
              "      <td>0.07</td>\n",
              "      <td>50.000</td>\n",
              "      <td>0.175</td>\n",
              "      <td>100.00</td>\n",
              "      <td>15.00</td>\n",
              "      <td>2.000</td>\n",
              "      <td>NaN</td>\n",
              "      <td>NaN</td>\n",
              "    </tr>\n",
              "    <tr>\n",
              "      <th>6</th>\n",
              "      <td>KLAIRE LABS</td>\n",
              "      <td>KLAIRE LABS</td>\n",
              "      <td>프로바이오틱스컴플리트캡슐</td>\n",
              "      <td>THER-BIOTIC COMPLETE 10+BEILLION CFUs MULTI-SP...</td>\n",
              "      <td>60</td>\n",
              "      <td>21000.0</td>\n",
              "      <td>thickend_liq</td>\n",
              "      <td>NaN</td>\n",
              "      <td>NaN</td>\n",
              "      <td>NaN</td>\n",
              "      <td>NaN</td>\n",
              "      <td>NaN</td>\n",
              "      <td>NaN</td>\n",
              "      <td>NaN</td>\n",
              "      <td>NaN</td>\n",
              "      <td>NaN</td>\n",
              "      <td>NaN</td>\n",
              "      <td>NaN</td>\n",
              "      <td>NaN</td>\n",
              "      <td>NaN</td>\n",
              "      <td>NaN</td>\n",
              "      <td>NaN</td>\n",
              "    </tr>\n",
              "    <tr>\n",
              "      <th>7</th>\n",
              "      <td>KC 인삼공사</td>\n",
              "      <td>정관장</td>\n",
              "      <td>홍삼원 포르테</td>\n",
              "      <td>KOREAN RED GINESENG DRINK FORTE</td>\n",
              "      <td>5</td>\n",
              "      <td>50.0</td>\n",
              "      <td>weaked_liq</td>\n",
              "      <td>NaN</td>\n",
              "      <td>NaN</td>\n",
              "      <td>NaN</td>\n",
              "      <td>NaN</td>\n",
              "      <td>NaN</td>\n",
              "      <td>NaN</td>\n",
              "      <td>NaN</td>\n",
              "      <td>NaN</td>\n",
              "      <td>NaN</td>\n",
              "      <td>NaN</td>\n",
              "      <td>NaN</td>\n",
              "      <td>NaN</td>\n",
              "      <td>NaN</td>\n",
              "      <td>NaN</td>\n",
              "      <td>NaN</td>\n",
              "    </tr>\n",
              "    <tr>\n",
              "      <th>8</th>\n",
              "      <td>AMAZING NUTRITION</td>\n",
              "      <td>AMAZING NUTRITION</td>\n",
              "      <td>어메이징포뮬라루테인</td>\n",
              "      <td>AMAZING FORMULA</td>\n",
              "      <td>240</td>\n",
              "      <td>145.0</td>\n",
              "      <td>soft_cap</td>\n",
              "      <td>NaN</td>\n",
              "      <td>NaN</td>\n",
              "      <td>NaN</td>\n",
              "      <td>NaN</td>\n",
              "      <td>NaN</td>\n",
              "      <td>NaN</td>\n",
              "      <td>NaN</td>\n",
              "      <td>NaN</td>\n",
              "      <td>NaN</td>\n",
              "      <td>NaN</td>\n",
              "      <td>NaN</td>\n",
              "      <td>NaN</td>\n",
              "      <td>NaN</td>\n",
              "      <td>NaN</td>\n",
              "      <td>NaN</td>\n",
              "    </tr>\n",
              "    <tr>\n",
              "      <th>9</th>\n",
              "      <td>CLX</td>\n",
              "      <td>NEOCELL</td>\n",
              "      <td>마린콜라겐</td>\n",
              "      <td>MARINE COLLAGEN</td>\n",
              "      <td>120</td>\n",
              "      <td>141747.6</td>\n",
              "      <td>hard_cap</td>\n",
              "      <td>NaN</td>\n",
              "      <td>NaN</td>\n",
              "      <td>NaN</td>\n",
              "      <td>10.0</td>\n",
              "      <td>NaN</td>\n",
              "      <td>NaN</td>\n",
              "      <td>NaN</td>\n",
              "      <td>NaN</td>\n",
              "      <td>NaN</td>\n",
              "      <td>NaN</td>\n",
              "      <td>NaN</td>\n",
              "      <td>NaN</td>\n",
              "      <td>NaN</td>\n",
              "      <td>NaN</td>\n",
              "      <td>NaN</td>\n",
              "    </tr>\n",
              "    <tr>\n",
              "      <th>10</th>\n",
              "      <td>(주)뉴트리원</td>\n",
              "      <td>NUTRIONELIFE</td>\n",
              "      <td>맥주효모</td>\n",
              "      <td>BREWER'S YEAST</td>\n",
              "      <td>112</td>\n",
              "      <td>112000.0</td>\n",
              "      <td>candy</td>\n",
              "      <td>NaN</td>\n",
              "      <td>NaN</td>\n",
              "      <td>NaN</td>\n",
              "      <td>NaN</td>\n",
              "      <td>NaN</td>\n",
              "      <td>NaN</td>\n",
              "      <td>NaN</td>\n",
              "      <td>NaN</td>\n",
              "      <td>NaN</td>\n",
              "      <td>NaN</td>\n",
              "      <td>NaN</td>\n",
              "      <td>NaN</td>\n",
              "      <td>NaN</td>\n",
              "      <td>NaN</td>\n",
              "      <td>NaN</td>\n",
              "    </tr>\n",
              "  </tbody>\n",
              "</table>\n",
              "</div>"
            ],
            "text/plain": [
              "                            maker              brand  ... Biotics Ext\n",
              "0                             GSK                센트룸  ...     NaN NaN\n",
              "1   SWISSE VITAMINS & SUPPLEMENTS             SWISSE  ...     NaN NaN\n",
              "2   SWISSE VITAMINS & SUPPLEMENTS             SWISSE  ...     NaN NaN\n",
              "3                        JAMIESON           JAMIESON  ...     NaN NaN\n",
              "4                  JARROW FOMULAS     JARROW FOMULAS  ...     NaN NaN\n",
              "5                    NATURE'S WAY              ALIVE  ...     NaN NaN\n",
              "6                     KLAIRE LABS        KLAIRE LABS  ...     NaN NaN\n",
              "7                         KC 인삼공사                정관장  ...     NaN NaN\n",
              "8               AMAZING NUTRITION  AMAZING NUTRITION  ...     NaN NaN\n",
              "9                             CLX            NEOCELL  ...     NaN NaN\n",
              "10                        (주)뉴트리원       NUTRIONELIFE  ...     NaN NaN\n",
              "\n",
              "[11 rows x 22 columns]"
            ]
          },
          "metadata": {
            "tags": []
          },
          "execution_count": 51
        }
      ]
    },
    {
      "cell_type": "code",
      "metadata": {
        "id": "MHIaExjXQHr4"
      },
      "source": [
        "import re"
      ],
      "execution_count": 68,
      "outputs": []
    },
    {
      "cell_type": "code",
      "metadata": {
        "colab": {
          "base_uri": "https://localhost:8080/"
        },
        "id": "7vVUKouAa2MV",
        "outputId": "6a950a35-467c-47fd-ae52-83862f2384a8"
      },
      "source": [
        "tmp"
      ],
      "execution_count": 103,
      "outputs": [
        {
          "output_type": "execute_result",
          "data": {
            "text/plain": [
              "['Swisse',\n",
              " 'MENS',\n",
              " 'ULTIVITE',\n",
              " 'MULTIVITAMIN',\n",
              " '{',\n",
              " 'SUPPORT DURING STRESS',\n",
              " 'ASSISTS ENERGY PRODUCTION',\n",
              " 'STAMINA & VITALITY',\n",
              " 'ON SCIENTIFIC EVIDENCE',\n",
              " \"MEN'S HEALTH\",\n",
              " '120 TABLETS ONE-A-DAY',\n",
              " '@',\n",
              " '(OUAI',\n",
              " 'BASED',\n",
              " 'AOnMU',\n",
              " 'DThYPI']"
            ]
          },
          "metadata": {
            "tags": []
          },
          "execution_count": 103
        }
      ]
    },
    {
      "cell_type": "code",
      "metadata": {
        "colab": {
          "base_uri": "https://localhost:8080/"
        },
        "id": "dqFrtBXwJeps",
        "outputId": "4f8a6809-f9e7-4eea-ebda-eea8c3a28511"
      },
      "source": [
        "ffff = []\n",
        "for i in tmp:\n",
        "  review_text = re.sub(\"[^0-9가-힣ㄱ-ㅎㅏ-ㅣA-Z&]\", \" \", i.upper())\n",
        "  if review_text != ' ':\n",
        "    ffff.append(review_text)\n",
        "\n",
        "ffff"
      ],
      "execution_count": 104,
      "outputs": [
        {
          "output_type": "execute_result",
          "data": {
            "text/plain": [
              "['SWISSE',\n",
              " 'MENS',\n",
              " 'ULTIVITE',\n",
              " 'MULTIVITAMIN',\n",
              " 'SUPPORT DURING STRESS',\n",
              " 'ASSISTS ENERGY PRODUCTION',\n",
              " 'STAMINA & VITALITY',\n",
              " 'ON SCIENTIFIC EVIDENCE',\n",
              " 'MEN S HEALTH',\n",
              " '120 TABLETS ONE A DAY',\n",
              " ' OUAI',\n",
              " 'BASED',\n",
              " 'AONMU',\n",
              " 'DTHYPI']"
            ]
          },
          "metadata": {
            "tags": []
          },
          "execution_count": 104
        }
      ]
    },
    {
      "cell_type": "code",
      "metadata": {
        "colab": {
          "base_uri": "https://localhost:8080/"
        },
        "id": "7ZOYgjuOJg-Y",
        "outputId": "fb67a7e6-d418-4d63-cc60-b44e6c34f3ba"
      },
      "source": [
        "asdf = 0\n",
        "brand_list = []\n",
        "maker_list = []\n",
        "ko_name_list = []\n",
        "en_name_list = []\n",
        "amount_list = []\n",
        "ttt = []\n",
        "\n",
        "ffff = ['JARROW FOMULAS','KLAIRE LABS','CLX','SWISSE','MENS ULTIVITE MULTIVITAMIN',120]\n",
        "\n",
        "asdf = 0\n",
        "\n",
        "for i in data['brand']:\n",
        "  if i in ffff:\n",
        "    ttt.append(asdf)\n",
        "  asdf = asdf + 1\n",
        "\n",
        "asdf = 0\n",
        "for i in data['maker']:\n",
        "  if i in ffff:\n",
        "    ttt.append(asdf)\n",
        "  asdf = asdf + 1\n",
        "\n",
        "\n",
        "asdf = 0\n",
        "for i in data['ko_name']:\n",
        "  if i in ffff:\n",
        "    ttt.append(asdf)\n",
        "  asdf = asdf + 1\n",
        "\n",
        "\n",
        "asdf = 0\n",
        "for i in data['en_name']:\n",
        "  if i in ffff:\n",
        "    print(i)\n",
        "    ttt.append(asdf)\n",
        "  asdf = asdf + 1\n",
        "\n",
        "\n",
        "asdf = 0\n",
        "for i in data['amount']:\n",
        "  if i in ffff:\n",
        "    ttt.append(asdf)\n",
        "  asdf = asdf + 1\n",
        "\n",
        "\n",
        "print(max(ttt))\n",
        "print(ttt)"
      ],
      "execution_count": 106,
      "outputs": [
        {
          "output_type": "stream",
          "text": [
            "MENS ULTIVITE MULTIVITAMIN\n",
            "9\n",
            "[1, 2, 4, 6, 4, 6, 9, 1, 1, 2, 9]\n"
          ],
          "name": "stdout"
        }
      ]
    },
    {
      "cell_type": "code",
      "metadata": {
        "colab": {
          "base_uri": "https://localhost:8080/"
        },
        "id": "iSO8pf1wXg8I",
        "outputId": "e342d3a2-8c13-4b3f-9ad0-4928f9b309a5"
      },
      "source": [
        "from collections import Counter\n",
        "print(ttt)\n",
        "cnt = Counter(ttt) \n",
        "most = cnt.most_common(1)\n",
        "result = most[0][0]\n",
        "result"
      ],
      "execution_count": 108,
      "outputs": [
        {
          "output_type": "stream",
          "text": [
            "[1, 2, 4, 6, 4, 6, 9, 1, 1, 2, 9]\n"
          ],
          "name": "stdout"
        },
        {
          "output_type": "execute_result",
          "data": {
            "text/plain": [
              "1"
            ]
          },
          "metadata": {
            "tags": []
          },
          "execution_count": 108
        }
      ]
    },
    {
      "cell_type": "code",
      "metadata": {
        "colab": {
          "base_uri": "https://localhost:8080/",
          "height": 35
        },
        "id": "afeJrFZnLrcr",
        "outputId": "5a50f662-d622-4c65-ab03-dd4ee9651117"
      },
      "source": [
        "\n",
        "\n",
        "data.loc[result]"
      ],
      "execution_count": 110,
      "outputs": [
        {
          "output_type": "execute_result",
          "data": {
            "application/vnd.google.colaboratory.intrinsic+json": {
              "type": "string"
            },
            "text/plain": [
              "'SWISSE VITAMINS & SUPPLEMENTS'"
            ]
          },
          "metadata": {
            "tags": []
          },
          "execution_count": 110
        }
      ]
    },
    {
      "cell_type": "code",
      "metadata": {
        "id": "1x5oAWn1MHPw"
      },
      "source": [
        "def output_test(str_list):\n",
        "\n",
        "  # upper 시킨 값들을 넣을 리스트\n",
        "  upper_str_list = []\n",
        "\n",
        "\n",
        "  for i in str_list:\n",
        "    # upper 이전에 ocr 결과값으로 나온 문자들\n",
        "    print(i)\n",
        "    # 숫자가 아니라면\n",
        "    if type(i) != int:\n",
        "      # 저거 제외한 나머지 빼고 어퍼시키고 문자 사이간 띄어쓰기 제외한 공백 제거\n",
        "      upper_str = re.sub(\"[^0-9가-힣ㄱ-ㅎㅏ-ㅣA-Z&]\", \" \", i.upper()).strip()\n",
        "    else:\n",
        "      # 숫자면 그냥 넣고\n",
        "      upper_str = i\n",
        "    # 아무것도 없는 공백인 애들이 아니면 리스트에 추가\n",
        "    if upper_str != ' ' and upper_str != '':\n",
        "      upper_str_list.append(upper_str)\n",
        "  \n",
        "  # 한번 확인하고\n",
        "  print(upper_str_list)\n",
        "\n",
        "  # 값이 일치하는 애들 인덱스를 넣기 위함\n",
        "  to_find_index = []\n",
        "\n",
        "  # 초기화\n",
        "  cnt = 0\n",
        "  # 'brand' 컬럼애들 싹 가져와서\n",
        "  for i in data['brand']:\n",
        "    #그게 여기 있다면\n",
        "    if i in upper_str_list:\n",
        "      print(i)\n",
        "      # 인덱스를 추가\n",
        "      to_find_index.append(cnt)\n",
        "    cnt = cnt + 1\n",
        "\n",
        "  cnt = 0\n",
        "  for i in data['maker']:\n",
        "    if i in upper_str_list:\n",
        "      print(i)\n",
        "      to_find_index.append(cnt)\n",
        "    cnt = cnt + 1\n",
        "\n",
        "\n",
        "  cnt = 0\n",
        "  for i in data['ko_name']:\n",
        "    if i in upper_str_list:\n",
        "      print(i)\n",
        "      to_find_index.append(cnt)\n",
        "    cnt = cnt + 1\n",
        "\n",
        "  cnt = 0\n",
        "  for i in data['en_name']:\n",
        "    if i in upper_str_list:\n",
        "      print(i)\n",
        "      to_find_index.append(cnt)\n",
        "    cnt = cnt + 1\n",
        "\n",
        "  cnt = 0\n",
        "  for i in data['amount']:\n",
        "    if i in upper_str_list:\n",
        "      print(i)\n",
        "      to_find_index.append(cnt)\n",
        "    cnt = cnt + 1\n",
        "\n",
        "  from collections import Counter\n",
        "  # 인덱스들 보여주고\n",
        "  print(to_find_index)\n",
        "  # 원소의 개수 (인덱스들의 개수)를 카운트\n",
        "  cnt = Counter(to_find_index) \n",
        "  # 가장 많은거 하나만 뽑고\n",
        "  most = cnt.most_common(1)\n",
        "  # 그거의 인덱스만 뽑는다\n",
        "  result = most[0][0]\n",
        "  print(result)"
      ],
      "execution_count": 196,
      "outputs": []
    },
    {
      "cell_type": "code",
      "metadata": {
        "id": "IeStsYBMc6Fz"
      },
      "source": [
        "testlist = ['TM', 'Daily', '얼라이브', '원스데일리', '건강기능식품', '(비티민전미네칼 보충용제품)', '59(1,745', 'MADEIN', 'Alivel', 'USA', 'IVOA', 'Once', 'Multi-Vitamin', 'PoTENCY', 'oMNI', 'mgx1oo정)', '내용량:', '174']"
      ],
      "execution_count": 197,
      "outputs": []
    },
    {
      "cell_type": "code",
      "metadata": {
        "colab": {
          "base_uri": "https://localhost:8080/"
        },
        "id": "r2kjEzV5dDfL",
        "outputId": "5e8bc773-d41c-490b-d87d-911401e99dc4"
      },
      "source": [
        "output_test(testlist)"
      ],
      "execution_count": 198,
      "outputs": [
        {
          "output_type": "stream",
          "text": [
            "TM\n",
            "Daily\n",
            "얼라이브\n",
            "원스데일리\n",
            "건강기능식품\n",
            "(비티민전미네칼 보충용제품)\n",
            "59(1,745\n",
            "MADEIN\n",
            "Alivel\n",
            "USA\n",
            "IVOA\n",
            "Once\n",
            "Multi-Vitamin\n",
            "PoTENCY\n",
            "oMNI\n",
            "mgx1oo정)\n",
            "내용량:\n",
            "174\n",
            "['TM', 'DAILY', '얼라이브', '원스데일리', '건강기능식품', '비티민전미네칼 보충용제품', '59 1 745', 'MADEIN', 'ALIVEL', 'USA', 'IVOA', 'ONCE', 'MULTI VITAMIN', 'POTENCY', 'OMNI', 'MGX1OO정', '내용량', '174']\n",
            "원스데일리\n",
            "[5]\n",
            "5\n"
          ],
          "name": "stdout"
        }
      ]
    },
    {
      "cell_type": "code",
      "metadata": {
        "id": "pKVaBohXeLi1"
      },
      "source": [
        "ffff = ['JARROW FOMULAS','KLAIRE LABS','CLX','SWISSE','MENS ULTIVITE MULTIVITAMIN',120]"
      ],
      "execution_count": 199,
      "outputs": []
    },
    {
      "cell_type": "code",
      "metadata": {
        "colab": {
          "base_uri": "https://localhost:8080/"
        },
        "id": "efRH_PswdFNA",
        "outputId": "ab7ea044-90bd-4f40-efba-474309fcf17d"
      },
      "source": [
        "output_test(ffff)"
      ],
      "execution_count": 200,
      "outputs": [
        {
          "output_type": "stream",
          "text": [
            "JARROW FOMULAS\n",
            "KLAIRE LABS\n",
            "CLX\n",
            "SWISSE\n",
            "MENS ULTIVITE MULTIVITAMIN\n",
            "120\n",
            "['JARROW FOMULAS', 'KLAIRE LABS', 'CLX', 'SWISSE', 'MENS ULTIVITE MULTIVITAMIN', 120]\n",
            "SWISSE\n",
            "SWISSE\n",
            "JARROW FOMULAS\n",
            "KLAIRE LABS\n",
            "JARROW FOMULAS\n",
            "KLAIRE LABS\n",
            "CLX\n",
            "MENS ULTIVITE MULTIVITAMIN\n",
            "120\n",
            "120\n",
            "120\n",
            "[1, 2, 4, 6, 4, 6, 9, 1, 1, 2, 9]\n",
            "1\n"
          ],
          "name": "stdout"
        }
      ]
    },
    {
      "cell_type": "code",
      "metadata": {
        "id": "ZeTQbJvReTQb"
      },
      "source": [
        "pppp = ['Jamieson', 'NATURAL sOURCEs', 'Sinco 1922', '프로바이오텍스', '1009', ')', '4', '\"14가지의서로', \"'\", '100억', '유통기한', 'CFU', '까지', '내용량:', '3330g(90캠술', '건강기능식품', '(원산지 미국)', '', '다른유의균함유\"', '유지', \"'79)\", '건강', 'X370', \"'기능식품\", \"'시망이외넘인전지\"]"
      ],
      "execution_count": 201,
      "outputs": []
    },
    {
      "cell_type": "code",
      "metadata": {
        "colab": {
          "base_uri": "https://localhost:8080/"
        },
        "id": "W4Ecfw6NmBh1",
        "outputId": "c725799b-7e44-424a-90e7-28d1bdbed6bd"
      },
      "source": [
        "output_test(pppp)"
      ],
      "execution_count": 202,
      "outputs": [
        {
          "output_type": "stream",
          "text": [
            "Jamieson\n",
            "NATURAL sOURCEs\n",
            "Sinco 1922\n",
            "프로바이오텍스\n",
            "1009\n",
            ")\n",
            "4\n",
            "\"14가지의서로\n",
            "'\n",
            "100억\n",
            "유통기한\n",
            "CFU\n",
            "까지\n",
            "내용량:\n",
            "3330g(90캠술\n",
            "건강기능식품\n",
            "(원산지 미국)\n",
            "\n",
            "다른유의균함유\"\n",
            "유지\n",
            "'79)\n",
            "건강\n",
            "X370\n",
            "'기능식품\n",
            "'시망이외넘인전지\n",
            "['JAMIESON', 'NATURAL SOURCES', 'SINCO 1922', '프로바이오텍스', '1009', '4', '14가지의서로', '100억', '유통기한', 'CFU', '까지', '내용량', '3330G 90캠술', '건강기능식품', '원산지 미국', '다른유의균함유', '유지', '79', '건강', 'X370', '기능식품', '시망이외넘인전지']\n",
            "JAMIESON\n",
            "JAMIESON\n",
            "[3, 3]\n",
            "3\n"
          ],
          "name": "stdout"
        }
      ]
    },
    {
      "cell_type": "code",
      "metadata": {
        "id": "mqX5z3GvmDck"
      },
      "source": [
        "am = [\n",
        "      ['TM', 'Daily', '얼라이브', '원스데일리', '건강기능식품', '(비티민전미네칼 보충용제품)', '59(1,745', 'MADEIN', 'Alivel', 'USA', 'IVOA', 'Once', 'Multi-Vitamin', 'PoTENCY', 'oMNI', 'mgx1oo정)', '내용량:', '174'],\n",
        "      ['Jamieson', 'NATURAL sOURCEs', 'Sinco 1922', '프로바이오텍스', '1009', ')', '4', '\"14가지의서로', \"'\", '100억', '유통기한', 'CFU', '까지', '내용량:', '3330g(90캠술', '건강기능식품', '(원산지 미국)', '', '다른유의균함유\"', '유지', \"'79)\", '건강', 'X370', \"'기능식품\", \"'시망이외넘인전지\"],\n",
        "      ['Jamieson-', 'NATURAL souRCEs', 'Since 1922', '프로바이오텍', '100억', '7', '유통기한', '서로다른', '100억CFU', '쟁', '내용량:', '33', '건강기능식푹', '(원산지 마국)', '?', '\"14가지의', \"'유의군함유'\", '까지', '유지', \"303(90캠술 * 37m8'\"],\n",
        "      ['h', 'Jamieson', 'souRcEs', '프로바이오퀴', '1922', 'NATuRAL', 'Sinco', '100의', '$', '다른-유의?', '서로', '유통기한가장', ';', 'cgu', '\"14가지의', '1009'],\n",
        "      ['souRCEs', '1922', \"'빼이오틱스\", '다른유의균합유\"', '까지', 'CU유지<', \"창'\", '기', '8', '군', '[기능', '\"', '[제조원씨', 'lamieson', '{', 'N', 'NATURPL', 'since', '168 ', '방법 일', '표시일자(', '항g', 'I00억', '질혼기', 'NIWNS >', '서로드', 'N', '0', '유통기한', \"NSA'\", '주4', '내용랑;', 'mg)', 'AOglSo캠술', 'X370', '길기능식품', '신지이'],\n",
        "      ['Jamieson', 'sineo', '프로바이오되스', '서로 다른', '유용기한 가지', 'SouRcE', 'NATURAL', '7922', '100억', \"'함유-\", '-14가지의', \"'유의군\", 'CFU 유', '100억'],\n",
        "      ['유산군', '%', '원활에', 'LABORATOREE', '경기고양시', '1회', '물과함께 섭취', '법: 훨년순일은', '또는', '분은', '복용시', '따라', '양도록', '5', '발생 시', '열 구토', '병 안에', '증식 및 유해군책', '[능생', '줄수', '배변활동', '도움올', 'LIDI수g만', '#조원 AMESON -', \"'공통창-\", '\"추권이당주;', '일산동구', \"'[권장엉되량다\", '\"사감살08 80 양P', '[유통기하드', \"초질일 '\", \"'g]'\", \"어끼지일}'\", 'j캠술씩', \"'해당월의\", '물중드', '상담후섭', \"'상문하실\", '의사와', '\"사드', '수유중인', '이거나 떼', 'S사y질드', '전문가와', '나타날수', '의악품', \"'63'\", '주시가 ', '등은', '과민반응올', '개인에', '일일섭취량 ', '(함부로', '9', '섭취하지', '중단하고', '이상사례', '섭취름', '복부통증', '메스움', '코플티표터로이두`', '혈변', '분AS', '방습{', '림프종,', '섭취하십시오', '들어요논'],\n",
        "      ['[기능성유산군 증식및유해교-', '배변활동원활에 도움올출수#', 'Ii조웬AMESONLABORATORESLIJ-a', '\"SQ이해주) 경기고양시 일신동구공-', 'l', '세지상담실080-20 852L', '{회매캠술씩 물과 함께 섭취', '[계', '법: 월년순일은', 'S', '또는수유중인 문은 의사와-', '비', '의약품복용시', '(질동은개인예 따학', '텅0', '{', '섭취하지 않도록', '발생 시 섭취률', '열 구토 혈변', '병안에', '[권장심하\"', '뼈일', '[유통기베다:', '피실까재일는', '해당울의다', '행@중다', '상담후_', \"'상담하y\", '회위드', '잇거나', '전문가와', \"'나타널수&\", '과민반응올', 'M트', '일일섭취량등', '함부로', \"'전\", \"주오 '\", '중단하고', '이상사례', '8쪽', \"iNR'\", '복부통증', '코르티u_테로하;T?', '메쓰움', '가볍뉴트', '분세DS,', '방습제-다', \")부후'\", '림프종', '섭취하심시오 ', '들어릿는'],\n",
        "      [\"억제'\", '행유산군', \"'원할에 도움올\", 'ILABORATORIES', '경기고양시', '3n8338 8 83', '별', '물과함께 섭취', '법: 월년국일은', '후', '열', '분은', '상담', '8@-', '복용시', '따라', '8', '않도록', '%', '발생 시 섭취틀', '열', '혈변', '녹', '병안에', '증식및유해군', '있음', '줄수', \"#활동'\", 'LTD[수입원%스', '공통천로@길', '-IDN!', '불딩주 ?', \"'및섭\", '일산동구', '[권장섭취량 트', '[유통기한옆면틈', \"'1일) [주의\", '실{', '껍쉽식트', '섭취하y오', \"J깨'\", '해당월의', '중는=', '상담하신시오', \"수유중인 '\", '의사와', '8습나다', '~}}드', \"'@품\", '전문가와', \"'자도;\", '나타날수', '개인에 드', '과민반응올', \"'방법올\", \"자로'\", '일일섭취량', '전문가다', \"섭취하지 '\", \"비상)'\", '중단하고', '면역력서', \"94'\", '가움 <', '복부통증', '콤르티표스레로이으-ag', '구토', 'WS', '팀프종 ', '방습제는', '무S ', '들어릿는'],\n",
        "    ['Y', '6', 'Jorrow', '보', 'felfphiluf', '4', 'ORAL', '60', 'YEGGIECAPS', 'SUPPLEAEHT', 'PROBIOTIC'],\n",
        "['Jorrow', '넷i', 'FOR M', 'ULA s', 'fiaphilus_', '60', 'IrtAle', 'Naa', '{A5S', '\"gieA', '%', 'ORAL ', \"'CAPS\", 'PROBIOTIC', 'SUPPLEMEAT', 'YEGGIE('],\n",
        "['출', '4', '0', '8', \"'oc요gs\"],\n",
        "['19)', '^', '4', '0', '@', '8o', '@', \"'r요맣\", '6', '@', '[', '(', 'VEGGIE', 'CAPS'],\n",
        "['h', 'I', '4 5', '7', '60', 'YEGGIE', '5ung', 'Jorrsr', '오', 'serng;', 'KiResfiluso', '\"SAEs', '0 L', '7o', '~WSRSwe', 'cAPs'],\n",
        "['0', '6', \"{'\", \"'1젓V\", '0', 'ceosue', '0', '(', '(', '@', '1', '1', '{', '25오향', '4 U', '5', 'ORAL', 'suPruEAErT', 'PRSBIOTIC'],\n",
        "['Swisse', 'MENS', 'ULTIVITE', 'MULTIVITAMIN', '{', 'SUPPORT DURING STRESS', 'ASSISTS ENERGY PRODUCTION', 'STAMINA & VITALITY', 'ON SCIENTIFIC EVIDENCE', \"MEN'S HEALTH\", '120 TABLETS ONE-A-DAY', '@', '(OUAI', 'BASED', 'AOnMU', 'DThYPI'],\n",
        "['Swisse', \"MEN'S\", 'ULTIVITE', 'MULTIVITAMIN', 'DURING', 'ENERGY', '&', 'ON', 'SUPPORT', 'STRESS', 'ASSISTS', 'PRODUCTION', 'Su MUAC', 'STAMINA', 'VITALITY', 'EASED', 'SCIENTIFIC', 'EVIDENCE', 'O ', 'MEN S', 'HEALTH', '120', 'ONE-A-DAY', 'TABLETS'],\n",
        "['9', '0', '안', '$', '쪽', 'f', '(', \"'\", ':', '{', '{', '움', '{', '^', 'ENERGY', 'MUL', \"'\", \"'\", '으UPPORT', 'STAMINA', 'sCIENTIFIC', \"'SSsT8\", 'TKBLETS', 'MEN$', 'SN', 'SUSS', '12o'],\n",
        "['톤', '0', '늘', '{', '@', '틀틀', '가', 'Wwlsse', '틀틀', '#', '1', '통:', '\"', '{', '@', '{', '틈', '?', 'MENS', '틈', '(', '6', '{', '-', '틀', '틈', '#', 'WTIVITE', '8', '틀', '9', '3', 'l', '7', '성', 'STRESS', '탑', '출출', 'PRODUCTION', '품', '& VITALITY', '@', '{', 'EVIDENCE', '{', '로', \"'HEALTH\", 'ONE-A-DAY', '5', 'MLTIVITAMIN', '~KRX ', 'DURING', ':', 'ENERGY', '틀', '-NNA', 'OUALITY', '오REMIUM', ':.EYTIFIC', '^OPMU', 'wS', 'NWS', 'SRo', 'MVYi'],\n",
        "['SUPPORT', 'ASSIs7s', '8', 'ON', '120', 'SwIsse', 'MENS', 'ULTIVITE ', 'MULTIVITAWIY', '~', 'DURING', 'PRo', 'ENERGY', 'VIT4', 'STAMINA', '5iro', 'SCIENTIFIC', 'BASED', 'No', \"MEN 'S\", '~', 'TAouers'],\n",
        "['Swisse', 'MENS', '나주iviT톤', 'MuLTNMAMIN', 'DuRING', '트NEFGY', '&', 'UNF', 'STREss', '의UPPORI', 'Proouctios', '스Ssisrs', 'Y ', 'sTAMINA', 'VITALIT >', 'OW', 'N0e', 'SCIENTFiC', 'EVIDE', 'MENS', 'HEAT', 'eo', 'U관', 'Tweis'],\n",
        "['응', '수', '9', '9', '{', 'SREMUA;', '용', '틈', '{', '', '9', 'ren', '0', 'vilored !', 'menitzl', '8', 'heffps `', '통', '밥SSAIIIM `', ';', '1', '<SmtSAk `', \"'s\", '~mnkarifs _', '중', 'PPoDUcTiON', 'STREss', \"YNXX'\", 'YSLAWC,', 'VITALITY', '통', '@', 'S화NC', 'EVIDENCE', 'WANAN `', 'WsAs', 'HEALTH', '8', '@', 'oA'],\n",
        "['Rowve', '\"', 'Swisse', 'M튜y든', '{', 'MULTIV', 'DuFIN', \"'NtAa'\", 'SUPPoRT', '\"AAIN'],\n",
        "['rsowss', '불다;3장 주', '불 또:', 'Swisse', '4토NS', 'MULT', 'suPPoPI', 'tNt', 'asxr'],\n",
        "['(해', 'from Ato', 'Zinc', '숨', '당', 'C', '열철', \"'배\", '바대', '센트률', '똑#', '틈', '포맨', '씨', '비타민 미네칼', '|다', '러', 'p', 'NEW', '신학선', '{[형u템무', '~회본', '하드렉m:다', \"l어거로'\", '코통트이', '차어 3다', '12', '옮', '먼02', \"'몰반털\", '한Fi', '카봇다', '선다늄', '[골- 갈로', '쁘트', '보_', '{Ti버드', '[충로-', \"Ii '\", '멀티', \"스자트'\", 'WmIA`', '히g구 ', '고거도 =', '-난', 'WONOII`', '50정', 'Gul', \"'한물출\", '(69.4g)', '건강기능식품', '건강', '가능식품'],\n",
        "['Ato', '슬', '센트록', '열', '그시', '탤-', 'D3IT하r', '틈', '포맨', '멀리 비타민 미네칼', '[보완--', \"'W모\", '[물포렉로보', 'Ivsl', \"'쓰사랗-\", 'I#r', '고객되스__톤:', '{.70-', '아상여_도:a', 'M디스t', '본거품-', 'wwtmtgi4', '돌다개', '50정(69.49)', '정보름학_하말- =- $', '건강', '바꾸중', '기능식품', '#빠잡내릇 :', '건강기능식품', '화신U', '(제F:tal', 'NEW', 'Zinc', 'from', '[로다록', '하= 탑 -', '로 로', ' 진', '프중내다', '코훈훈:', '뜰스올', '신하는E', '돌?_', '[물쫓} 소', '쓰트:_: 다'],\n",
        "['from Ato', 'Zinc', '숨', '당', '일', \"'사)\", '센트물', '트륭다', '28IZ', '틈', '념 `', '포맨', '벼', '또', '[내', '멀리비타민 미네칼', '_품', '영령', '출-', '본', '건강', '뼈', '곁', '[로경실하', 'NEW', '선화', '{[스템틱', '하렉프다', '\"회', \"'내로-\", \"'무~'\", '메터', '코통기기히', '벼E2', '(a보', '국올반트', '{반전빵', '선키늄', '더l렉', '~__물', '쨌물-', '보빠?', '{매t', 'r련', '러사튼', 'WmllnV', 'N mB구', '고너되스', '제I 뉴논', 'arr', \"'5\", 'K고어가', 'TWW', '50정C', \"'정토혹속_동출\", \"'돌렉다\", '{', '(69.4g)', \"'a35\", '건강기능식품', '기능식품', 'BoWVe일'],\n",
        "['Irom Ato', 'Zinc', '습선 )', '플렉로', '열뛰석', '센트률', '브m', \"'졸렉\", '만I# (', ':', '콤물렉부', '그#트', '포맨', '스m물로_', '머골꽃월', '뱃트', '[보액', '멀리비타민 미네람', '깥물포', '[똑어다', \"'g사합\", '한E리', '고객-심]', '기W따', '이상서신로', '기707', '본]품출 ', '(며석', 'Mtamhe', 'm출@ 합-습', '50정(69.49)', '기능식품', '건강', '(#빠a름', '건강기능식품', 'IBOAg선신X', '(제l', '빼y다', 'NEW', '하쓰증로=', '\"외도면', '코룹균하', '@`대\"', '뜰', \"'그로_튼\", '[Paikar'],\n",
        "['IromAt-', \"'Zinc\", '벼]', '숨', '84', '@', '월', '센트률', '토', 'Dnl', '출물다', '포맨', '선또다', '대썩', '백물', '멀리 비타민미네람_', '장보볕', '[쪽=', \"'쓰법\", '고거다', '0상서신도', '본판', 'Wwmrf;', '정보#?-솜-', '50정(69.49)', '기능식품', '건강', '(#l -다', '건강기능식품', '7\"시', '\"뇨-', 'NEW'],\n",
        "['from Ato =', 'Zinc', 'l생l터:', '숨스되다', '엘심로T', '센트률', '코롭B기', '생걸', 'Fa ', '[DIVIh', '틈 몰-타다', '신히하늄L그', '포맨', '[외관규n하a', '빼트4다', '[보관예전]', '멀티비타민미네칼_', '_i포기로다', \"'소자행하다\", '석싸p', '교통 기 션;', 'IF리', '미I깨', '0상', '매I?', '본@품', '#I처AE ', 'MMmamrAal', '50정(69.4g)', '기둥y', '건갑', 'Kmla\"', 'N#', '(제#든', '건강기능식품', 'NEW', '망증증트다', '하루하로발하P', '\"도', '새신꾸', '출씬하', 'tlawalt', '정화', '{a깨 ', 'rAwlim', 'INIMI'],\n",
        "['fromAto', 'Zinc', '[료명말카경', '숨 신회)다', '콤필스칭동가동예', '일철색터로럽호다로', '센트률', '캐출호협해 현하', '트염 비티미E [드', '만31Z,', '(비i표표a]', '틈 물나물롬 출물물증', '신효되E늄 탤질-하하다 -', '포맨', '미골기출렉고워-한 -', '브터롭 [마스달- 티석-T', '[보관맣비건조하고서넓저보', '덜리비타민 미네칼', '[반품또는교램본거-(6블 ', \"'소비자분쟁하길- 준의하도로\", '고객센계-_가요\"다 MXY', '이상사레신고느 57723', '본탤품운질정의 병퓨치력 :', 'WW,', 'Itoodgok 내AC#m', '정보출확_하실수', '(꾸', '기능식점', '건강', 'Ka템l#로내증뻐다', '[진기능식품', 'Sc터y', '#i웨PzE', '(E_가 n호', 'NEW', '비오된혼] TT 3a', 'UP', '하드록시프로질 a물물렉시느', 'IVras', '[약하다', '정꾸플하', '[빠다#', '5정(69.4g)', '있습내다', '((omaml', \"'DiotedC\"],\n",
        "['Irom', \"'Zinc 스\", '셈', '맑\"', '열', '3외 로@', '센트률', 'p등', '콤공마', '부무', '노통', '[문보', '포맨', '멀티비타민미네활', 'pe', '버세[적-씨 다', \"'Fm기지 버\", 'ii씬째', 'M', '대m그구', '본문', \"'초\", \"'스 거{]스스\", '장물', '라i물_꽤', '50정(69.4g)', '기능식품', '건강', '다 {매륙서질', '어움중', '건강기능식품', 'Ai', 'NEW', '튀U이', ' 오등', '\"오드', '{거등사', '[권 다이로회상'],\n",
        "['tromAto', \"'Zinc\", '8', '센트률', '빼다', 'DIH갈 E', '급', '포맨', '[골#', 'EP', '뱃트-', '멀리 비타민 미네활', '[보예<', '@i포기', \"'램지랍꿈\", '고}-심쪽', '이상스국신주 -', '본거품뼈', 'wwtmgla', '50정(69.49)', '건강', '정보름# 월수속-', '가능식품', 'K빠r내하다', '건강기능식품', '7399', 'K제PaNal', 'paihl', 'NEW', '산권', 'Ba]', '하T로{', '@a', 'apt', '맑내다', '선다'],\n",
        "['YI', '다', '센트물', '포면', '출= - 트=- 너들', '5073.49', '조. 능등', '7('],\n",
        "['4', '0', '포맨', '덜리 비타민', '도', '7', '50정(69.49)', '건강기능식품', 'NEW', 'from', 'Zint', '센트록', ' 옛_ - 튼렉=', '특째이등', '미네칼', '돌-~ '],\n",
        "['from Ato _', '[로n하', '술', 'IJ', '센트물', '열철', '[a&', '트 되도', '2BIZ', '틈', '포맨', '똑출다', '[l- ? ;', '빗트도3?', '멀리 비타민 미네칼', '[보관m비조적-불', '[금또-로=', '~', \"'조자탤하다-\", '고객센대심가-주?', '0상사신-:  ', '본거품으잘니 말y로', 'wwwtoadgkm\"', '((69.4g)', '건강', '정보플확_하실수- -', '기능식품', 'K _l표_트보', '건강기능식품', '`다VUIN', 'K제pagslz', 'Zinc', 'NEW', '선러전=', '당증스L록-', '하록 =-:론', '_#;로한거뜰.', '코론호히', '계골카', '{Ua<호jym', '몰스스철토다툼', 'jE늄 =', '50정'],\n",
        "['Ai', '@', '센트롬', '여', '0', '', '포맨', '멀리 비타민 미네칼', '4', \"B'\", 'I#_il', '가', '뱃째', 'J ~', '7', '(심구', '본물', '50정(69.49)', '간강', '청름', '기능품', \"'매말\", '건강기능식품', 'E간 5#9', '트', 'trom', 'NEW', 'Zinc', '924Le등', \"'튀어[\", '@ ]과', \"'행 문보\", \"'리로'로악상\", '1보:', '\"팅써', \"'A사'\", 'I675]', '어3I', '{d어m 청금', '{_스는', '깨금지히', '1y @ 옮기대'],\n",
        "['Atd', '1이', '센트록', '[히', '콤행', '포맨', '멀리 비타민 미네칼', '4', '기목', '[출i', '그', '[배째', '7', '=', '50정(69.49)', '값', '기능품', 'Uoe', '건강기능식품', 'trom', 'NEW', 'Zinc', '?4Ce8연보', '{특해이', \"'또는\", '도연올 뚱다', '[로', '\"리계다로q상', \"'irybl\", '#비_', '5고리]=', '2피히}', '!27712리1', '(며스든', '어저꺼', '{ _증-기까'],\n",
        "['NEW', 'Irom', '10', 'Zinc   뼈-:', '숨 신화전다', 'a로?', '일철', '센트률', '코훈현하하-', '트염베되터', '만I바청', '콤플-트', '선되다눈별월트', '포맨', '머골꽃잘 -', 'z적 #', '[보관-전적-=', '멀리 비타민 미네활', '_i포고다', '\\'K자탤하탓?\"', '고객주스 열', '0상', '본]품', 'WWW', '확행', '50정(69.49)', '기둥식품', '건강', '#빠', '(Aal', '건강기능식품', '하렉하- 물톤', 'h로#쪽', '시신도 T', \"'@비\", '(Hmmte', '!수소다', '정보름', '-_개', '(증씨', \"'Raln\"],\n",
        "['trom', '숨', '[ry', '열', '(5', '센트률', '탤질', 'S6i', 'UI', 'a', '콤퀴내 력경', '톤', '신되다눈탤l년', '포맨', '[골꽃]:: ?', '빼트-업적', '[보예_적터', '` [', '멀리 비타민 미네칼', '@i포-:', 'Fy', '\"m', 'II:', '@:', '대', 'TmL', '(빵', '((69.49)', '##도', '제탕;', '건강기능식품', 'At', 'Zinc', '[로하다', 'NEW', 'A변', '신}', '닿i로터?', '하르-뱃', 'eF로]하g', '코훈현다', '(바-', \"'소자버월:\", '고객대심', '0상세', '본거판', '@세', 'IHmml', '정보#_텔', '50정', '일', '(3내:다', 'Y#nl'],\n",
        "['fromAto', '=', 'Q', '센트률', '9', 'CU', '틀', '스#또는=', '포맨', '백력', 'E', '멀리 비타민 미네람', '@-기', '털다 -', \"'쓰사템\", '그스', '어여국', '본물', 'WI', '정름', '50정(69.49)', '기능식품', '건강', 'N', '건강기능식품', '뼈', 'Zinc', 'E:IIR', 'NEW', \"P준'\", 'mro', '[소포'],\n",
        "['fromAt', 'Zinc', '=', '센트률', '포맨', '멀리 비타민 미네활', '보', '답표', '@', '쓰', 'Fi\"', \"': .\", '0상여 =', '본뜰', 'I', '50정(69.49)', '건강', '종들', '기능식품', '건강기능식품', 'NEW'],\n",
        "['Irom At=', \"'Zinc\", '7', '\"외도', '센트률', '5-뜻', '훌륭음 ', '포맨', '멀리 비타민미네활', '\"-씨 ', '돌337] 버I씨', 'Uryil수mg', '(dT27', '본', 'i_하스는', \"'l\", '창', '\"i달-다꽤', '50정(69.49)', '기5식품', '건', '@매 국 궁중', '건강기능식품', 'NEW', '특3이', '포', '요콤물}', '표물E 드최로_-상'],\n",
        "['trom Ato', 'Zinc', '습썹 ', '하록', '열', '센트률', '타', '코통', 'E3IZ', '틈플로', '포맨', '스또는돌록', '[로-', '빗물 @다', '[보전비-스-', '멀리 비타민 미네칼', '[금표-로', '탑기', \"'쓰-자씨\", '62표s', '고객생스  =:', \"아상서신='\", '본거운출-', 'WwHial', '50정(69.49)', '건강', '정클적_F@-눈-', '기능식품', 'K빠', '건강기능식품', '(제f=', '[트숙', 'NEW', '멘', 'Basirs', 'MUCUN'],\n",
        "['Ato', '숨', ':;', '센트롬', '일철', '털다다', '미BIZ;', '틈', '포맨', '멀리비타민 미네칼', '입상스적스토T]', '본- 품은 -률:', '{(69.49)', '정보플적_하 수손-쪽', '{taodglti', '건강', '건강기능식품', '기능식품', '# 량l규내블-하다', '울동나 ', 'H제pr`aalaiz', 'NEW', 'Zinc', 'trom', '[로장실-', '선j드', '닿로터', '하록로로물론', \"_#커로'거돌1\", '코통혼히', '{l?n다;', '몰시스록.출', '신멘되눈 물돌렉트', '마골뜻}스5', '브롭L', '[스:터\"7', '[보관병예-', '[고적가불기로', '[반품또는-본티', \"'소비자분장결즈 -:\", '고객돼스자-_:', '50정', 'WW'],\n",
        "['NEW', 'Irom', 'Ili', 'Zitf:', '(섭취', '#_매', '4', '(다른영보', '센트룹', '불 _ 태하3 @', '{특에이하', '그로시든', '8통용 닮과마', '혼 호-입@ 오9동속', '#', '1 어등용지즈문 로', '훌 l중R전문어문교료 j상', '포맨', '멀리비타민미네', '[써(어- 내물럭Oml0%} 마7', '53mE3머U래되r7% 비터nB', '[[mi션나eij49gBI79) 영산ZDid', \"'im기iamoallmi-m o]\", '#7 m사도3 317 씨) * ()의수치는', \"'내--_-트 데t-회물내너다꽤\", '50 청(69.4g)', '7] 도려러하위 패이 콜aa', '식품', '[표기주?허어턱7 발운울중', '건강', '(물과함께 손', '#.하지 시오', '이으로', '7 y7 대른든', '60오']]"
      ],
      "execution_count": 208,
      "outputs": []
    },
    {
      "cell_type": "code",
      "metadata": {
        "id": "XsvTF4DsowBj"
      },
      "source": [
        "tmptmp = []\n",
        "for i in am:\n",
        "  for k in i:\n",
        "    if type(k) != int:\n",
        "      # 저거 제외한 나머지 빼고 어퍼시키고 문자 사이간 띄어쓰기 제외한 공백 제거\n",
        "      upper_str = re.sub(\"[^0-9가-힣ㄱ-ㅎㅏ-ㅣA-Z&]\", \" \", k.upper()).strip()\n",
        "    else:\n",
        "      # 숫자면 그냥 넣고\n",
        "      upper_str = k\n",
        "    # 아무것도 없는 공백인 애들이 아니면 리스트에 추가\n",
        "    if upper_str != ' ' and upper_str != '':\n",
        "      tmptmp.append(upper_str)"
      ],
      "execution_count": 218,
      "outputs": []
    },
    {
      "cell_type": "code",
      "metadata": {
        "colab": {
          "base_uri": "https://localhost:8080/"
        },
        "id": "TkQMXd2QpC-6",
        "outputId": "f8f7bcc0-b748-44e0-b53b-b8e183bf1fc0"
      },
      "source": [
        "from collections import Counter\n",
        "cntff = Counter(tmptmp) \n",
        "  # 가장 많은거 하나만 뽑고\n",
        "\n",
        "print(cntff)"
      ],
      "execution_count": 219,
      "outputs": [
        {
          "output_type": "stream",
          "text": [
            "Counter({'건강기능식품': 21, '포맨': 21, 'NEW': 21, 'ZINC': 17, '건강': 16, '센트률': 13, '50정 69 49': 12, '기능식품': 11, '0': 11, '8': 9, '틈': 9, '4': 8, '7': 8, '9': 7, '열': 6, 'SWISSE': 6, '멀리 비타민 미네칼': 6, '5': 5, 'MENS': 5, '숨': 5, 'JAMIESON': 4, '100억': 4, 'N': 4, 'L': 4, '6': 4, '1': 4, 'DURING': 4, 'ENERGY': 4, 'STRESS': 4, 'STAMINA': 4, '틀': 4, 'FROM ATO': 4, '50정': 4, 'TROM': 4, '내용량': 3, '유통기한': 3, '까지': 3, '14가지의': 3, '전문가와': 3, '과민반응올': 3, '중단하고': 3, '복부통증': 3, '비': 3, '품': 3, '보': 3, 'ORAL': 3, '60': 3, 'CAPS': 3, 'ULTIVITE': 3, 'SUPPORT': 3, 'SCIENTIFIC': 3, 'EVIDENCE': 3, 'HEALTH': 3, '통': 3, '로': 3, '69 4G': 3, '센트록': 3, '센트물': 3, '도': 3, 'IROM': 3, '멀리 비타민 미네활': 3, 'NATURAL SOURCES': 2, '1009': 2, '유지': 2, 'X370': 2, 'H': 2, 'SOURCES': 2, '1922': 2, 'NATURAL': 2, '창': 2, '기': 2, '경기고양시': 2, '물과함께 섭취': 2, '또는': 2, '분은': 2, '복용시': 2, '따라': 2, '줄수': 2, '일산동구': 2, '해당월의': 2, '의사와': 2, '수유중인': 2, '나타날수': 2, '일일섭취량': 2, '함부로': 2, '섭취하지': 2, '이상사례': 2, '혈변': 2, '림프종': 2, 'S': 2, '병안에': 2, '들어릿는': 2, 'WS': 2, 'Y': 2, 'JORROW': 2, 'PROBIOTIC': 2, 'YEGGIE': 2, '출': 2, 'I': 2, 'MULTIVITAMIN': 2, 'BASED': 2, 'MEN S': 2, '&': 2, 'ON': 2, 'PRODUCTION': 2, 'VITALITY': 2, '120': 2, 'ONE A DAY': 2, '쪽': 2, '톤': 2, '틀틀': 2, '가': 2, '당': 2, '열철': 2, '씨': 2, '다': 2, 'II': 2, '가능식품': 2, 'ATO': 2, 'FROM': 2, '돌': 2, '일': 2, '벼': 2, '멀리비타민 미네칼': 2, '본': 2, '뼈': 2, '뱃트': 2, '대': 2, '0상': 2, '본 품': 2, '50정 69 4G': 2, 'FROMATO': 2, 'WW': 2, 'M': 2, 'AI': 2, 'A': 2, '센트롬': 2, '본물': 2, '기능품': 2, '일철': 2, '69 49': 2, 'TM': 1, 'DAILY': 1, '얼라이브': 1, '원스데일리': 1, '비티민전미네칼 보충용제품': 1, '59 1 745': 1, 'MADEIN': 1, 'ALIVEL': 1, 'USA': 1, 'IVOA': 1, 'ONCE': 1, 'MULTI VITAMIN': 1, 'POTENCY': 1, 'OMNI': 1, 'MGX1OO정': 1, '174': 1, 'SINCO 1922': 1, '프로바이오텍스': 1, '14가지의서로': 1, 'CFU': 1, '3330G 90캠술': 1, '원산지 미국': 1, '다른유의균함유': 1, '79': 1, '시망이외넘인전지': 1, 'SINCE 1922': 1, '프로바이오텍': 1, '서로다른': 1, '100억CFU': 1, '쟁': 1, '33': 1, '건강기능식푹': 1, '원산지 마국': 1, '유의군함유': 1, '303 90캠술   37M8': 1, '프로바이오퀴': 1, 'SINCO': 1, '100의': 1, '다른 유의': 1, '서로': 1, '유통기한가장': 1, 'CGU': 1, '빼이오틱스': 1, '다른유의균합유': 1, 'CU유지': 1, '군': 1, '기능': 1, '제조원씨': 1, 'LAMIESON': 1, 'NATURPL': 1, 'SINCE': 1, '168': 1, '방법 일': 1, '표시일자': 1, '항G': 1, 'I00억': 1, '질혼기': 1, 'NIWNS': 1, '서로드': 1, 'NSA': 1, '주4': 1, '내용랑': 1, 'MG': 1, 'AOGLSO캠술': 1, '길기능식품': 1, '신지이': 1, 'SINEO': 1, '프로바이오되스': 1, '서로 다른': 1, '유용기한 가지': 1, 'SOURCE': 1, '7922': 1, '함유': 1, '유의군': 1, 'CFU 유': 1, '유산군': 1, '원활에': 1, 'LABORATOREE': 1, '1회': 1, '법  훨년순일은': 1, '양도록': 1, '발생 시': 1, '열 구토': 1, '병 안에': 1, '증식 및 유해군책': 1, '능생': 1, '배변활동': 1, '도움올': 1, 'LIDI수G만': 1, '조원 AMESON': 1, '공통창': 1, '추권이당주': 1, '권장엉되량다': 1, '사감살08 80 양P': 1, '유통기하드': 1, '초질일': 1, 'G': 1, '어끼지일': 1, 'J캠술씩': 1, '물중드': 1, '상담후섭': 1, '상문하실': 1, '사드': 1, '이거나 떼': 1, 'S사Y질드': 1, '의악품': 1, '63': 1, '주시가': 1, '등은': 1, '개인에': 1, '섭취름': 1, '메스움': 1, '코플티표터로이두': 1, '분AS': 1, '방습': 1, '섭취하십시오': 1, '들어요논': 1, '기능성유산군 증식및유해교': 1, '배변활동원활에 도움올출수': 1, 'II조웬AMESONLABORATORESLIJ A': 1, 'SQ이해주  경기고양시 일신동구공': 1, '세지상담실080 20 852L': 1, '회매캠술씩 물과 함께 섭취': 1, '계': 1, '법  월년순일은': 1, '또는수유중인 문은 의사와': 1, '의약품복용시': 1, '질동은개인예 따학': 1, '텅0': 1, '섭취하지 않도록': 1, '발생 시 섭취률': 1, '열 구토 혈변': 1, '권장심하': 1, '뼈일': 1, '유통기베다': 1, '피실까재일는': 1, '해당울의다': 1, '행 중다': 1, '상담후': 1, '상담하Y': 1, '회위드': 1, '잇거나': 1, '나타널수&': 1, 'M트': 1, '일일섭취량등': 1, '전': 1, '주오': 1, '8쪽': 1, 'INR': 1, '코르티U 테로하 T': 1, '메쓰움': 1, '가볍뉴트': 1, '분세DS': 1, '방습제 다': 1, '부후': 1, '섭취하심시오': 1, '억제': 1, '행유산군': 1, '원할에 도움올': 1, 'ILABORATORIES': 1, '3N8338 8 83': 1, '별': 1, '법  월년국일은': 1, '후': 1, '상담': 1, '않도록': 1, '발생 시 섭취틀': 1, '녹': 1, '증식및유해군': 1, '있음': 1, '활동': 1, 'LTD 수입원 스': 1, '공통천로 길': 1, 'IDN': 1, '불딩주': 1, '및섭': 1, '권장섭취량 트': 1, '유통기한옆면틈': 1, '1일   주의': 1, '실': 1, '껍쉽식트': 1, '섭취하Y오': 1, 'J깨': 1, '중는': 1, '상담하신시오': 1, '8습나다': 1, '드': 1, '자도': 1, '개인에 드': 1, '방법올': 1, '자로': 1, '전문가다': 1, '비상': 1, '면역력서': 1, '94': 1, '가움': 1, '콤르티표스레로이으 AG': 1, '구토': 1, '팀프종': 1, '방습제는': 1, '무S': 1, 'FELFPHILUF': 1, 'YEGGIECAPS': 1, 'SUPPLEAEHT': 1, '넷I': 1, 'FOR M': 1, 'ULA S': 1, 'FIAPHILUS': 1, 'IRTALE': 1, 'NAA': 1, 'A5S': 1, 'GIEA': 1, 'SUPPLEMEAT': 1, 'OC요GS': 1, '19': 1, '8O': 1, 'R요맣': 1, 'VEGGIE': 1, '4 5': 1, '5UNG': 1, 'JORRSR': 1, '오': 1, 'SERNG': 1, 'KIRESFILUSO': 1, 'SAES': 1, '0 L': 1, '7O': 1, 'WSRSWE': 1, '1젓V': 1, 'CEOSUE': 1, '25오향': 1, '4 U': 1, 'SUPRUEAERT': 1, 'PRSBIOTIC': 1, 'SUPPORT DURING STRESS': 1, 'ASSISTS ENERGY PRODUCTION': 1, 'STAMINA & VITALITY': 1, 'ON SCIENTIFIC EVIDENCE': 1, 'MEN S HEALTH': 1, '120 TABLETS ONE A DAY': 1, 'OUAI': 1, 'AONMU': 1, 'DTHYPI': 1, 'ASSISTS': 1, 'SU MUAC': 1, 'EASED': 1, 'O': 1, 'TABLETS': 1, '안': 1, 'F': 1, '움': 1, 'MUL': 1, '으UPPORT': 1, 'SSST8': 1, 'TKBLETS': 1, 'MEN': 1, 'SN': 1, 'SUSS': 1, '12O': 1, '늘': 1, 'WWLSSE': 1, 'WTIVITE': 1, '3': 1, '성': 1, '탑': 1, '출출': 1, '& VITALITY': 1, 'MLTIVITAMIN': 1, 'KRX': 1, 'NNA': 1, 'OUALITY': 1, '오REMIUM': 1, 'EYTIFIC': 1, 'OPMU': 1, 'NWS': 1, 'SRO': 1, 'MVYI': 1, 'ASSIS7S': 1, 'MULTIVITAWIY': 1, 'PRO': 1, 'VIT4': 1, '5IRO': 1, 'NO': 1, 'MEN  S': 1, 'TAOUERS': 1, '나주IVIT톤': 1, 'MULTNMAMIN': 1, '트NEFGY': 1, 'UNF': 1, '의UPPORI': 1, 'PROOUCTIOS': 1, '스SSISRS': 1, 'VITALIT': 1, 'OW': 1, 'N0E': 1, 'SCIENTFIC': 1, 'EVIDE': 1, 'HEAT': 1, 'EO': 1, 'U관': 1, 'TWEIS': 1, '응': 1, '수': 1, 'SREMUA': 1, '용': 1, 'REN': 1, 'VILORED': 1, 'MENITZL': 1, 'HEFFPS': 1, '밥SSAIIIM': 1, 'SMTSAK': 1, 'MNKARIFS': 1, '중': 1, 'PPODUCTION': 1, 'YNXX': 1, 'YSLAWC': 1, 'S화NC': 1, 'WANAN': 1, 'WSAS': 1, 'OA': 1, 'ROWVE': 1, 'M튜Y든': 1, 'MULTIV': 1, 'DUFIN': 1, 'NTAA': 1, 'AAIN': 1, 'RSOWSS': 1, '불다 3장 주': 1, '불 또': 1, '4토NS': 1, 'MULT': 1, 'SUPPOPI': 1, 'TNT': 1, 'ASXR': 1, '해': 1, 'C': 1, '배': 1, '바대': 1, '똑': 1, '비타민 미네칼': 1, '러': 1, 'P': 1, '신학선': 1, '형U템무': 1, '회본': 1, '하드렉M 다': 1, 'L어거로': 1, '코통트이': 1, '차어 3다': 1, '12': 1, '옮': 1, '먼02': 1, '몰반털': 1, '한FI': 1, '카봇다': 1, '선다늄': 1, '골  갈로': 1, '쁘트': 1, 'TI버드': 1, '충로': 1, '멀티': 1, '스자트': 1, 'WMIA': 1, '히G구': 1, '고거도': 1, '난': 1, 'WONOII': 1, 'GUL': 1, '한물출': 1, '슬': 1, '그시': 1, '탤': 1, 'D3IT하R': 1, '보완': 1, 'W모': 1, '물포렉로보': 1, 'IVSL': 1, '쓰사랗': 1, 'I R': 1, '고객되스  톤': 1, '70': 1, '아상여 도 A': 1, 'M디스T': 1, '본거품': 1, 'WWTMTGI4': 1, '돌다개': 1, '정보름학 하말': 1, '바꾸중': 1, '빠잡내릇': 1, '화신U': 1, '제F TAL': 1, '로다록': 1, '하  탑': 1, '로 로': 1, '진': 1, '프중내다': 1, '코훈훈': 1, '뜰스올': 1, '신하는E': 1, '물쫓  소': 1, '쓰트    다': 1, '사': 1, '트륭다': 1, '28IZ': 1, '념': 1, '또': 1, '내': 1, '영령': 1, '곁': 1, '로경실하': 1, '선화': 1, '스템틱': 1, '하렉프다': 1, '회': 1, '내로': 1, '무': 1, '메터': 1, '코통기기히': 1, '벼E2': 1, 'A보': 1, '국올반트': 1, '반전빵': 1, '선키늄': 1, '더L렉': 1, '물': 1, '쨌물': 1, '보빠': 1, '매T': 1, 'R련': 1, '러사튼': 1, 'WMLLNV': 1, 'N MB구': 1, '고너되스': 1, '제I 뉴논': 1, 'ARR': 1, 'K고어가': 1, 'TWW': 1, '50정C': 1, '정토혹속 동출': 1, '돌렉다': 1, 'A35': 1, 'BOWVE일': 1, 'IROM ATO': 1, '습선': 1, '플렉로': 1, '열뛰석': 1, '브M': 1, '졸렉': 1, '만I': 1, '콤물렉부': 1, '그 트': 1, '스M물로': 1, '머골꽃월': 1, '보액': 1, '멀리비타민 미네람': 1, '깥물포': 1, '똑어다': 1, 'G사합': 1, '한E리': 1, '고객 심': 1, '기W따': 1, '이상서신로': 1, '기707': 1, '본 품출': 1, '며석': 1, 'MTAMHE': 1, 'M출  합 습': 1, '빠A름': 1, 'IBOAG선신X': 1, '제L': 1, '빼Y다': 1, '하쓰증로': 1, '외도면': 1, '코룹균하': 1, '뜰': 1, '그로 튼': 1, 'PAIKAR': 1, 'IROMAT': 1, '84': 1, '월': 1, '토': 1, 'DNL': 1, '출물다': 1, '선또다': 1, '대썩': 1, '백물': 1, '멀리 비타민미네람': 1, '장보볕': 1, '쓰법': 1, '고거다': 1, '0상서신도': 1, '본판': 1, 'WWMRF': 1, '정보   솜': 1, 'L  다': 1, '7 시': 1, '뇨': 1, 'L생L터': 1, '숨스되다': 1, '엘심로T': 1, '코롭B기': 1, '생걸': 1, 'FA': 1, 'DIVIH': 1, '틈 몰 타다': 1, '신히하늄L그': 1, '외관규N하A': 1, '빼트4다': 1, '보관예전': 1, '멀티비타민미네칼': 1, 'I포기로다': 1, '소자행하다': 1, '석싸P': 1, '교통 기 션': 1, 'IF리': 1, '미I깨': 1, '매I': 1, 'I처AE': 1, 'MMMAMRAAL': 1, '기둥Y': 1, '건갑': 1, 'KMLA': 1, '제 든': 1, '망증증트다': 1, '하루하로발하P': 1, '새신꾸': 1, '출씬하': 1, 'TLAWALT': 1, '정화': 1, 'A깨': 1, 'RAWLIM': 1, 'INIMI': 1, '료명말카경': 1, '숨 신회 다': 1, '콤필스칭동가동예': 1, '일철색터로럽호다로': 1, '캐출호협해 현하': 1, '트염 비티미E  드': 1, '만31Z': 1, '비I표표A': 1, '틈 물나물롬 출물물증': 1, '신효되E늄 탤질 하하다': 1, '미골기출렉고워 한': 1, '브터롭  마스달  티석 T': 1, '보관맣비건조하고서넓저보': 1, '덜리비타민 미네칼': 1, '반품또는교램본거  6블': 1, '소비자분쟁하길  준의하도로': 1, '고객센계  가요 다 MXY': 1, '이상사레신고느 57723': 1, '본탤품운질정의 병퓨치력': 1, 'ITOODGOK 내AC M': 1, '정보출확 하실수': 1, '꾸': 1, '기능식점': 1, 'KA템L 로내증뻐다': 1, '진기능식품': 1, 'SC터Y': 1, 'I웨PZE': 1, 'E 가 N호': 1, '비오된혼  TT 3A': 1, 'UP': 1, '하드록시프로질 A물물렉시느': 1, 'IVRAS': 1, '약하다': 1, '정꾸플하': 1, '빠다': 1, '5정 69 4G': 1, '있습내다': 1, 'OMAML': 1, 'DIOTEDC': 1, 'ZINC 스': 1, '셈': 1, '맑': 1, '3외 로': 1, 'P등': 1, '콤공마': 1, '부무': 1, '노통': 1, '문보': 1, '멀티비타민미네활': 1, 'PE': 1, '버세 적 씨 다': 1, 'FM기지 버': 1, 'II씬째': 1, '대M그구': 1, '본문': 1, '초': 1, '스 거  스스': 1, '장물': 1, '라I물 꽤': 1, '다  매륙서질': 1, '어움중': 1, '튀U이': 1, '오등': 1, '오드': 1, '거등사': 1, '권 다이로회상': 1, 'TROMATO': 1, '빼다': 1, 'DIH갈 E': 1, '급': 1, '골': 1, 'EP': 1, '보예': 1, 'I포기': 1, '램지랍꿈': 1, '고  심쪽': 1, '이상스국신주': 1, '본거품뼈': 1, 'WWTMGLA': 1, '정보름  월수속': 1, 'K빠R내하다': 1, '7399': 1, 'K제PANAL': 1, 'PAIHL': 1, '산권': 1, 'BA': 1, '하T로': 1, 'APT': 1, '맑내다': 1, '선다': 1, 'YI': 1, '포면': 1, '출    트   너들': 1, '5073 49': 1, '조  능등': 1, '덜리 비타민': 1, 'ZINT': 1, '옛    튼렉': 1, '특째이등': 1, '미네칼': 1, '로N하': 1, '술': 1, 'IJ': 1, 'A&': 1, '트 되도': 1, '2BIZ': 1, '똑출다': 1, '빗트도3': 1, '보관M비조적 불': 1, '금또 로': 1, '조자탤하다': 1, '고객센대심가 주': 1, '0상사신': 1, '본거품으잘니 말Y로': 1, 'WWWTOADGKM': 1, '정보플확 하실수': 1, 'K  L표 트보': 1, '다VUIN': 1, 'K제PAGSLZ': 1, '선러전': 1, '당증스L록': 1, '하록    론': 1, '로한거뜰': 1, '코론호히': 1, '계골카': 1, 'UA 호JYM': 1, '몰스스철토다툼': 1, 'JE늄': 1, '여': 1, 'B': 1, 'I  IL': 1, '뱃째': 1, 'J': 1, '심구': 1, '간강': 1, '청름': 1, '매말': 1, 'E간 5 9': 1, '트': 1, '924LE등': 1, '튀어': 1, '과': 1, '행 문보': 1, '리로 로악상': 1, '1보': 1, '팅써': 1, 'A사': 1, 'I675': 1, '어3I': 1, 'D어M 청금': 1, '스는': 1, '깨금지히': 1, '1Y   옮기대': 1, 'ATD': 1, '1이': 1, '히': 1, '콤행': 1, '기목': 1, '출I': 1, '그': 1, '배째': 1, '값': 1, 'UOE': 1, '4CE8연보': 1, '특해이': 1, '도연올 뚱다': 1, '리계다로Q상': 1, 'IRYBL': 1, '5고리': 1, '2피히': 1, '27712리1': 1, '며스든': 1, '어저꺼': 1, '증 기까': 1, '10': 1, 'ZINC   뼈': 1, '숨 신화전다': 1, 'A로': 1, '코훈현하하': 1, '트염베되터': 1, '만I바청': 1, '콤플 트': 1, '선되다눈별월트': 1, '머골꽃잘': 1, 'Z적': 1, '보관 전적': 1, 'I포고다': 1, 'K자탤하탓': 1, '고객주스 열': 1, 'WWW': 1, '확행': 1, '기둥식품': 1, '빠': 1, 'AAL': 1, '하렉하  물톤': 1, 'H로 쪽': 1, '시신도 T': 1, 'HMMTE': 1, '수소다': 1, '정보름': 1, '개': 1, '증씨': 1, 'RALN': 1, 'RY': 1, '탤질': 1, 'S6I': 1, 'UI': 1, '콤퀴내 력경': 1, '신되다눈탤L년': 1, '골꽃': 1, '빼트 업적': 1, '보예 적터': 1, 'I포': 1, 'FY': 1, 'TML': 1, '빵': 1, '제탕': 1, 'AT': 1, '로하다': 1, 'A변': 1, '신': 1, '닿I로터': 1, '하르 뱃': 1, 'EF로 하G': 1, '코훈현다': 1, '바': 1, '소자버월': 1, '고객대심': 1, '0상세': 1, '본거판': 1, '세': 1, 'IHMML': 1, '정보  텔': 1, '3내 다': 1, 'Y NL': 1, 'Q': 1, 'CU': 1, '스 또는': 1, '백력': 1, 'E': 1, '멀리 비타민 미네람': 1, '털다': 1, '쓰사템': 1, '그스': 1, '어여국': 1, 'WI': 1, '정름': 1, 'E IIR': 1, 'P준': 1, 'MRO': 1, '소포': 1, 'FROMAT': 1, '답표': 1, '쓰': 1, 'FI': 1, '0상여': 1, '본뜰': 1, '종들': 1, 'IROM AT': 1, '외도': 1, '5 뜻': 1, '훌륭음': 1, '멀리 비타민미네활': 1, '돌337  버I씨': 1, 'URYIL수MG': 1, 'DT27': 1, 'I 하스는': 1, 'I달 다꽤': 1, '기5식품': 1, '건': 1, '매 국 궁중': 1, '특3이': 1, '포': 1, '요콤물': 1, '표물E 드최로  상': 1, 'TROM ATO': 1, '습썹': 1, '하록': 1, '타': 1, '코통': 1, 'E3IZ': 1, '틈플로': 1, '스또는돌록': 1, '빗물  다': 1, '보전비 스': 1, '금표 로': 1, '탑기': 1, '쓰 자씨': 1, '62표S': 1, '고객생스': 1, '아상서신': 1, '본거운출': 1, 'WWHIAL': 1, '정클적 F  눈': 1, 'K빠': 1, '제F': 1, '트숙': 1, '멘': 1, 'BASIRS': 1, 'MUCUN': 1, '털다다': 1, '미BIZ': 1, '입상스적스토T': 1, '본  품은  률': 1, '정보플적 하 수손 쪽': 1, 'TAODGLTI': 1, '량L규내블 하다': 1, '울동나': 1, 'H제PR AALAIZ': 1, '로장실': 1, '선J드': 1, '닿로터': 1, '하록로로물론': 1, '커로 거돌1': 1, '코통혼히': 1, 'L N다': 1, '몰시스록 출': 1, '신멘되눈 물돌렉트': 1, '마골뜻 스5': 1, '브롭L': 1, '스 터 7': 1, '보관병예': 1, '고적가불기로': 1, '반품또는 본티': 1, '소비자분장결즈': 1, '고객돼스자': 1, 'ILI': 1, 'ZITF': 1, '섭취': 1, '매': 1, '다른영보': 1, '센트룹': 1, '불   태하3': 1, '특에이하': 1, '그로시든': 1, '8통용 닮과마': 1, '혼 호 입  오9동속': 1, '1 어등용지즈문 로': 1, '훌 L중R전문어문교료 J상': 1, '멀리비타민미네': 1, '써 어  내물럭OML0   마7': 1, '53ME3머U래되R7  비터NB': 1, 'MI션나EIJ49GBI79  영산ZDID': 1, 'IM기IAMOALLMI M O': 1, '7 M사도3 317 씨      의수치는': 1, '내    트 데T 회물내너다꽤': 1, '50 청 69 4G': 1, '7  도려러하위 패이 콜AA': 1, '식품': 1, '표기주 허어턱7 발운울중': 1, '물과함께 손': 1, '하지 시오': 1, '이으로': 1, '7 Y7 대른든': 1, '60오': 1})\n"
          ],
          "name": "stdout"
        }
      ]
    },
    {
      "cell_type": "code",
      "metadata": {
        "colab": {
          "base_uri": "https://localhost:8080/"
        },
        "id": "EAp2PoOhp5n5",
        "outputId": "3195720e-f5c9-4e9b-92dd-f70b7bf43ef6"
      },
      "source": [
        "ota_dict = {\n",
        "    \"정판장\" : \"정관장\",\n",
        "    \"바이오택스\" : \"바이오틱스\",\n",
        "    \"프로바이오택스\" : \"프로바이오틱스\",\n",
        "    \"ALIVEl\" : \"ALIVE\",\n",
        "    \"ALIVEI\" : \"ALIVE\",\n",
        "    \"프로바이오되스\" : \"프로바이오틱스\",\n",
        "    \"센트률\" : \"센트룸\",\n",
        "    '센트록' : '센트룸',\n",
        "    '센트물' : '센트룸'\n",
        "}\n",
        "ota_dict"
      ],
      "execution_count": 231,
      "outputs": [
        {
          "output_type": "execute_result",
          "data": {
            "text/plain": [
              "{'ALIVEI': 'ALIVE',\n",
              " 'ALIVEl': 'ALIVE',\n",
              " '바이오택스': '바이오틱스',\n",
              " '센트록': '센트룸',\n",
              " '센트률': '센트룸',\n",
              " '센트물': '센트룸',\n",
              " '정판장': '정관장',\n",
              " '프로바이오되스': '프로바이오틱스',\n",
              " '프로바이오택스': '프로바이오틱스'}"
            ]
          },
          "metadata": {
            "tags": []
          },
          "execution_count": 231
        }
      ]
    },
    {
      "cell_type": "code",
      "metadata": {
        "id": "dI2PyPQlqf02"
      },
      "source": [
        "def output_test(str_list):\n",
        "\n",
        "  # upper 시킨 값들을 넣을 리스트\n",
        "  upper_str_list = []\n",
        "\n",
        "\n",
        "  for i in str_list:\n",
        "    # upper 이전에 ocr 결과값으로 나온 문자들\n",
        "    print(i)\n",
        "    # 숫자가 아니라면\n",
        "    if type(i) != int:\n",
        "      # 저거 제외한 나머지 빼고 어퍼시키고 문자 사이간 띄어쓰기 제외한 공백 제거\n",
        "      upper_str = re.sub(\"[^0-9가-힣ㄱ-ㅎㅏ-ㅣA-Z&']\", \" \", i.upper()).strip()\n",
        "    else:\n",
        "      # 숫자면 그냥 넣고\n",
        "      upper_str = i\n",
        "\n",
        "    if upper_str in ota_dict.keys():\n",
        "      upper_str = ota_dict[upper_str]\n",
        "\n",
        "    # 아무것도 없는 공백인 애들이 아니면 리스트에 추가\n",
        "    if upper_str != ' ' and upper_str != '':\n",
        "      upper_str_list.append(upper_str)\n",
        "  \n",
        "  # 한번 확인하고\n",
        "  print(upper_str_list)\n",
        "\n",
        "  # 값이 일치하는 애들 인덱스를 넣기 위함\n",
        "  to_find_index = []\n",
        "\n",
        "  # 초기화\n",
        "  cnt = 0\n",
        "  # 'brand' 컬럼애들 싹 가져와서\n",
        "  for i in data['brand']:\n",
        "    #그게 여기 있다면\n",
        "    if i in upper_str_list:\n",
        "      print(i)\n",
        "      # 인덱스를 추가\n",
        "      to_find_index.append(cnt)\n",
        "    cnt = cnt + 1\n",
        "\n",
        "  cnt = 0\n",
        "  for i in data['maker']:\n",
        "    if i in upper_str_list:\n",
        "      print(i)\n",
        "      to_find_index.append(cnt)\n",
        "    cnt = cnt + 1\n",
        "\n",
        "\n",
        "  cnt = 0\n",
        "  for i in data['ko_name']:\n",
        "    if i in upper_str_list:\n",
        "      print(i)\n",
        "      to_find_index.append(cnt)\n",
        "    cnt = cnt + 1\n",
        "\n",
        "  cnt = 0\n",
        "  for i in data['en_name']:\n",
        "    if i in upper_str_list:\n",
        "      print(i)\n",
        "      to_find_index.append(cnt)\n",
        "    cnt = cnt + 1\n",
        "\n",
        "  cnt = 0\n",
        "  for i in data['amount']:\n",
        "    if i in upper_str_list:\n",
        "      print(i)\n",
        "      to_find_index.append(cnt)\n",
        "    cnt = cnt + 1\n",
        "\n",
        "  from collections import Counter\n",
        "  # 인덱스들 보여주고\n",
        "  print(to_find_index)\n",
        "  # 원소의 개수 (인덱스들의 개수)를 카운트\n",
        "  cnt = Counter(to_find_index) \n",
        "  # 가장 많은거 하나만 뽑고\n",
        "  most = cnt.most_common(1)\n",
        "  # 그거의 인덱스만 뽑는다\n",
        "  result = most[0][0]\n",
        "  print(result)"
      ],
      "execution_count": 235,
      "outputs": []
    },
    {
      "cell_type": "code",
      "metadata": {
        "id": "Y0TCvKjPsGNt"
      },
      "source": [
        "rr = ['Ato', '슬', '센트록', '열', '그시', '탤-', 'D3IT하r', '틈', '포맨', '멀리 비타민 미네칼', '[보완--', \"'W모\", '[물포렉로보', 'Ivsl', \"'쓰사랗-\", 'I#r', '고객되스__톤:', '{.70-', '아상여_도:a', 'M디스t', '본거품-', 'wwtmtgi4', '돌다개', '50정(69.49)', '정보름학_하말- =- $', '건강', '바꾸중', '기능식품', '#빠잡내릇 :', '건강기능식품', '화신U', '(제F:tal', 'NEW', 'Zinc', 'from', '[로다록', '하= 탑 -', '로 로', ' 진', '프중내다', '코훈훈:', '뜰스올', '신하는E', '돌?_', '[물쫓} 소', '쓰트:_: 다']"
      ],
      "execution_count": 236,
      "outputs": []
    },
    {
      "cell_type": "code",
      "metadata": {
        "colab": {
          "base_uri": "https://localhost:8080/"
        },
        "id": "7r4yGfoGrA99",
        "outputId": "3c940f2f-24f4-47b8-c50e-7f8a8d182bfd"
      },
      "source": [
        "output_test(rr)"
      ],
      "execution_count": 237,
      "outputs": [
        {
          "output_type": "stream",
          "text": [
            "Ato\n",
            "슬\n",
            "센트록\n",
            "열\n",
            "그시\n",
            "탤-\n",
            "D3IT하r\n",
            "틈\n",
            "포맨\n",
            "멀리 비타민 미네칼\n",
            "[보완--\n",
            "'W모\n",
            "[물포렉로보\n",
            "Ivsl\n",
            "'쓰사랗-\n",
            "I#r\n",
            "고객되스__톤:\n",
            "{.70-\n",
            "아상여_도:a\n",
            "M디스t\n",
            "본거품-\n",
            "wwtmtgi4\n",
            "돌다개\n",
            "50정(69.49)\n",
            "정보름학_하말- =- $\n",
            "건강\n",
            "바꾸중\n",
            "기능식품\n",
            "#빠잡내릇 :\n",
            "건강기능식품\n",
            "화신U\n",
            "(제F:tal\n",
            "NEW\n",
            "Zinc\n",
            "from\n",
            "[로다록\n",
            "하= 탑 -\n",
            "로 로\n",
            " 진\n",
            "프중내다\n",
            "코훈훈:\n",
            "뜰스올\n",
            "신하는E\n",
            "돌?_\n",
            "[물쫓} 소\n",
            "쓰트:_: 다\n",
            "['ATO', '슬', '센트룸', '열', '그시', '탤', 'D3IT하R', '틈', '포맨', '멀리 비타민 미네칼', '보완', 'W모', '물포렉로보', 'IVSL', '쓰사랗', 'I R', '고객되스  톤', '70', '아상여 도 A', 'M디스T', '본거품', 'WWTMTGI4', '돌다개', '50정 69 49', '정보름학 하말', '건강', '바꾸중', '기능식품', '빠잡내릇', '건강기능식품', '화신U', '제F TAL', 'NEW', 'ZINC', 'FROM', '로다록', '하  탑', '로 로', '진', '프중내다', '코훈훈', '뜰스올', '신하는E', '돌', '물쫓  소', '쓰트    다']\n",
            "센트룸\n",
            "[0]\n",
            "0\n"
          ],
          "name": "stdout"
        }
      ]
    },
    {
      "cell_type": "code",
      "metadata": {
        "id": "knlPe8VksLXW"
      },
      "source": [
        ""
      ],
      "execution_count": null,
      "outputs": []
    }
  ]
}